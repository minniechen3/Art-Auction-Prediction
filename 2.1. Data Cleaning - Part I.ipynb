{
 "cells": [
  {
   "cell_type": "markdown",
   "metadata": {},
   "source": [
    "## Data Cleaning - Part I\n",
    "\n",
    "------"
   ]
  },
  {
   "cell_type": "markdown",
   "metadata": {},
   "source": [
    "### Cleaning Guide:\n",
    "\n",
    "- [Importing Data](#loading_data)\n",
    "- [Data Inspection](#inspection)\n",
    "- [Realized & Estimate Price](#realized_price) \n",
    "- [Print Variables](#print_variables) \n",
    "- [Datetime Variables](#datetime_variables)\n",
    "- [Dimensions Variable](#dimensions_variables)\n",
    "- [Manual Cleaning by inspection](#by_inspection)"
   ]
  },
  {
   "cell_type": "code",
   "execution_count": 1,
   "metadata": {},
   "outputs": [],
   "source": [
    "import pandas as pd\n",
    "import numpy as np\n",
    "import re\n",
    "from datetime import datetime\n",
    "import warnings\n",
    "warnings.simplefilter('ignore')"
   ]
  },
  {
   "cell_type": "markdown",
   "metadata": {},
   "source": [
    "<a id=\"loading_data\"></a>\n",
    "### Loading in Auction data:\n",
    "\n",
    "---\n",
    "\n",
    "- Scraped data is stored is multiple csv files\n",
    "- Load/Read acquired data from web-scrape \n",
    "- Append to a list, giving a list of dataframe"
   ]
  },
  {
   "cell_type": "markdown",
   "metadata": {},
   "source": [
    "  "
   ]
  },
  {
   "cell_type": "code",
   "execution_count": 14,
   "metadata": {},
   "outputs": [],
   "source": [
    "#code for loading dataframe into a list:\n",
    "\n",
    "listofdata = []\n",
    "\n",
    "for i in range(1,100000, 1000):\n",
    "    listofdata.append(pd.read_csv('./dataset/df_{}_{}.csv'.format(i,i+999)))\n",
    "\n",
    "for i in range(1,10000,100):\n",
    "    try:\n",
    "        listofdata.append(pd.read_csv('./dataset/df_{}_{}.csv'.format(i,i+99)))\n",
    "    except:\n",
    "        pass\n",
    "\n",
    "listofdata.append(pd.read_csv('./dataset/df_10001_11000_low.csv'))\n",
    "listofdata.append(pd.read_csv('./dataset/df_11001_12000_low.csv')) \n",
    "listofdata.append(pd.read_csv('./dataset/df_100001_low.csv'))\n"
   ]
  },
  {
   "cell_type": "markdown",
   "metadata": {},
   "source": [
    "  "
   ]
  },
  {
   "cell_type": "markdown",
   "metadata": {},
   "source": [
    "#### Concatenate the list of dataframes in to one large dataframe with all the scraped data:"
   ]
  },
  {
   "cell_type": "code",
   "execution_count": 15,
   "metadata": {
    "scrolled": false
   },
   "outputs": [],
   "source": [
    "#Combining to a single dataframe:\n",
    "df = pd.concat(listofdata)\n"
   ]
  },
  {
   "cell_type": "code",
   "execution_count": 16,
   "metadata": {
    "scrolled": true
   },
   "outputs": [
    {
     "data": {
      "text/plain": [
       "(166602, 16)"
      ]
     },
     "execution_count": 16,
     "metadata": {},
     "output_type": "execute_result"
    }
   ],
   "source": [
    "df.shape #166,602 rows X 16 columns"
   ]
  },
  {
   "cell_type": "code",
   "execution_count": 17,
   "metadata": {},
   "outputs": [],
   "source": [
    "#drop duplicates:\n",
    "df.drop_duplicates(inplace = True)\n"
   ]
  },
  {
   "cell_type": "code",
   "execution_count": 18,
   "metadata": {
    "scrolled": true
   },
   "outputs": [
    {
     "data": {
      "text/plain": [
       "(165444, 16)"
      ]
     },
     "execution_count": 18,
     "metadata": {},
     "output_type": "execute_result"
    }
   ],
   "source": [
    "df.shape #165,444 rows X 16 columns"
   ]
  },
  {
   "cell_type": "markdown",
   "metadata": {},
   "source": [
    "### Data Inspection:\n",
    "----\n",
    "<a id=\"inspection\"></a>"
   ]
  },
  {
   "cell_type": "code",
   "execution_count": 19,
   "metadata": {},
   "outputs": [
    {
     "data": {
      "text/html": [
       "<div>\n",
       "<style scoped>\n",
       "    .dataframe tbody tr th:only-of-type {\n",
       "        vertical-align: middle;\n",
       "    }\n",
       "\n",
       "    .dataframe tbody tr th {\n",
       "        vertical-align: top;\n",
       "    }\n",
       "\n",
       "    .dataframe thead th {\n",
       "        text-align: right;\n",
       "    }\n",
       "</style>\n",
       "<table border=\"1\" class=\"dataframe\">\n",
       "  <thead>\n",
       "    <tr style=\"text-align: right;\">\n",
       "      <th></th>\n",
       "      <th>Art_medium</th>\n",
       "      <th>Artist</th>\n",
       "      <th>Artist_url</th>\n",
       "      <th>Dimensions</th>\n",
       "      <th>Estimate_Price</th>\n",
       "      <th>Image_url</th>\n",
       "      <th>Realized_Price</th>\n",
       "      <th>Sale_date</th>\n",
       "      <th>Signed</th>\n",
       "      <th>Similar_items</th>\n",
       "      <th>Title</th>\n",
       "      <th>Title_url</th>\n",
       "      <th>Unnamed: 0</th>\n",
       "      <th>Unnamed: 0.1</th>\n",
       "      <th>Venue</th>\n",
       "      <th>Year</th>\n",
       "    </tr>\n",
       "  </thead>\n",
       "  <tbody>\n",
       "    <tr>\n",
       "      <th>0</th>\n",
       "      <td>Color offset lithogragh, screen and pochoir wi...</td>\n",
       "      <td>Robert Rauschenberg</td>\n",
       "      <td>https://www.mutualart.com/Artist/Robert-Rausch...</td>\n",
       "      <td>27 x 21 1/2 inches</td>\n",
       "      <td>800 - 1,120 USD</td>\n",
       "      <td>https://media.mutualart.com/Images/2012_10/12/...</td>\n",
       "      <td>1,000 USD</td>\n",
       "      <td>Oct. 16, 2012</td>\n",
       "      <td>Signed.9/78</td>\n",
       "      <td>https://www.mutualart.com/Artwork/HORSEFEATHER...</td>\n",
       "      <td>HORSEFEATHERS THIRTEEN-XIII</td>\n",
       "      <td>https://www.mutualart.com/Artwork/HORSEFEATHER...</td>\n",
       "      <td>0</td>\n",
       "      <td>0.0</td>\n",
       "      <td>Doyle New York</td>\n",
       "      <td>1972</td>\n",
       "    </tr>\n",
       "    <tr>\n",
       "      <th>1</th>\n",
       "      <td>color soap ground aquatint</td>\n",
       "      <td>Pat Steir</td>\n",
       "      <td>https://www.mutualart.com/Artist/Pat-Steir/84D...</td>\n",
       "      <td>27.75\" x 25.25\" in</td>\n",
       "      <td>NaN</td>\n",
       "      <td>https://media.mutualart.com/Images/2012_10/21/...</td>\n",
       "      <td>1,000 USD</td>\n",
       "      <td>Oct. 24, 2012</td>\n",
       "      <td>Signed.12/40</td>\n",
       "      <td>https://www.mutualart.com/Artwork/Starry-Night...</td>\n",
       "      <td>Starry Night June</td>\n",
       "      <td>https://www.mutualart.com/Artwork/Starry-Night...</td>\n",
       "      <td>1</td>\n",
       "      <td>1.0</td>\n",
       "      <td>Dallas Auction Gallery</td>\n",
       "      <td>1996</td>\n",
       "    </tr>\n",
       "    <tr>\n",
       "      <th>2</th>\n",
       "      <td>Color etching with aquatint, drypoint &amp; hand-c...</td>\n",
       "      <td>Louis Icart</td>\n",
       "      <td>https://www.mutualart.com/Artist/Louis-Icart/9...</td>\n",
       "      <td>27 1/2 x 18 3/4 inches</td>\n",
       "      <td>NaN</td>\n",
       "      <td>https://media.mutualart.com/Images/2013_03/13/...</td>\n",
       "      <td>1,000 USD</td>\n",
       "      <td>May 08, 2002</td>\n",
       "      <td>Signed.</td>\n",
       "      <td>https://www.mutualart.com/Artwork/Orchids/0BA9...</td>\n",
       "      <td>Orchids</td>\n",
       "      <td>https://www.mutualart.com/Artwork/Orchids/0BA9...</td>\n",
       "      <td>2</td>\n",
       "      <td>2.0</td>\n",
       "      <td>Freeman's</td>\n",
       "      <td>1937</td>\n",
       "    </tr>\n",
       "    <tr>\n",
       "      <th>3</th>\n",
       "      <td>engraved</td>\n",
       "      <td>John Bogle</td>\n",
       "      <td>https://www.mutualart.com/Artist/John-Bogle/1B...</td>\n",
       "      <td>51mm (2in) high</td>\n",
       "      <td>NaN</td>\n",
       "      <td>https://media.mutualart.com/Images/2012_11/21/...</td>\n",
       "      <td>=\"1,000 USD</td>\n",
       "      <td>Nov. 28, 2012</td>\n",
       "      <td>Signed.</td>\n",
       "      <td>https://www.mutualart.com/Artwork/Mrs-Anne-Mur...</td>\n",
       "      <td>Mrs Anne Murray (née Campbell-Colquhoun) (b. c...</td>\n",
       "      <td>https://www.mutualart.com/Artwork/Mrs-Anne-Mur...</td>\n",
       "      <td>3</td>\n",
       "      <td>3.0</td>\n",
       "      <td>Bonhams Oxford</td>\n",
       "      <td>1794</td>\n",
       "    </tr>\n",
       "    <tr>\n",
       "      <th>4</th>\n",
       "      <td>Color lithograph, screenprint, pochoir, collag...</td>\n",
       "      <td>Robert Rauschenberg</td>\n",
       "      <td>https://www.mutualart.com/Artist/Robert-Rausch...</td>\n",
       "      <td>21 1/2x13 in</td>\n",
       "      <td>NaN</td>\n",
       "      <td>https://media.mutualart.com/Images/2012_11/14/...</td>\n",
       "      <td>1,000 USD</td>\n",
       "      <td>Nov. 15, 2012</td>\n",
       "      <td>Signed.Artist'sproof</td>\n",
       "      <td>https://www.mutualart.com/Artwork/Horsefeather...</td>\n",
       "      <td>Horsefeathers Thirteen XV</td>\n",
       "      <td>https://www.mutualart.com/Artwork/Horsefeather...</td>\n",
       "      <td>4</td>\n",
       "      <td>4.0</td>\n",
       "      <td>Swann Auction Galleries</td>\n",
       "      <td>1972</td>\n",
       "    </tr>\n",
       "  </tbody>\n",
       "</table>\n",
       "</div>"
      ],
      "text/plain": [
       "                                          Art_medium               Artist  \\\n",
       "0  Color offset lithogragh, screen and pochoir wi...  Robert Rauschenberg   \n",
       "1                         color soap ground aquatint            Pat Steir   \n",
       "2  Color etching with aquatint, drypoint & hand-c...          Louis Icart   \n",
       "3                                           engraved           John Bogle   \n",
       "4  Color lithograph, screenprint, pochoir, collag...  Robert Rauschenberg   \n",
       "\n",
       "                                          Artist_url              Dimensions  \\\n",
       "0  https://www.mutualart.com/Artist/Robert-Rausch...      27 x 21 1/2 inches   \n",
       "1  https://www.mutualart.com/Artist/Pat-Steir/84D...      27.75\" x 25.25\" in   \n",
       "2  https://www.mutualart.com/Artist/Louis-Icart/9...  27 1/2 x 18 3/4 inches   \n",
       "3  https://www.mutualart.com/Artist/John-Bogle/1B...         51mm (2in) high   \n",
       "4  https://www.mutualart.com/Artist/Robert-Rausch...            21 1/2x13 in   \n",
       "\n",
       "    Estimate_Price                                          Image_url  \\\n",
       "0  800 - 1,120 USD  https://media.mutualart.com/Images/2012_10/12/...   \n",
       "1              NaN  https://media.mutualart.com/Images/2012_10/21/...   \n",
       "2              NaN  https://media.mutualart.com/Images/2013_03/13/...   \n",
       "3              NaN  https://media.mutualart.com/Images/2012_11/21/...   \n",
       "4              NaN  https://media.mutualart.com/Images/2012_11/14/...   \n",
       "\n",
       "  Realized_Price      Sale_date                Signed  \\\n",
       "0      1,000 USD  Oct. 16, 2012           Signed.9/78   \n",
       "1      1,000 USD  Oct. 24, 2012          Signed.12/40   \n",
       "2      1,000 USD   May 08, 2002               Signed.   \n",
       "3    =\"1,000 USD  Nov. 28, 2012               Signed.   \n",
       "4      1,000 USD  Nov. 15, 2012  Signed.Artist'sproof   \n",
       "\n",
       "                                       Similar_items  \\\n",
       "0  https://www.mutualart.com/Artwork/HORSEFEATHER...   \n",
       "1  https://www.mutualart.com/Artwork/Starry-Night...   \n",
       "2  https://www.mutualart.com/Artwork/Orchids/0BA9...   \n",
       "3  https://www.mutualart.com/Artwork/Mrs-Anne-Mur...   \n",
       "4  https://www.mutualart.com/Artwork/Horsefeather...   \n",
       "\n",
       "                                               Title  \\\n",
       "0                        HORSEFEATHERS THIRTEEN-XIII   \n",
       "1                                  Starry Night June   \n",
       "2                                            Orchids   \n",
       "3  Mrs Anne Murray (née Campbell-Colquhoun) (b. c...   \n",
       "4                          Horsefeathers Thirteen XV   \n",
       "\n",
       "                                           Title_url  Unnamed: 0  \\\n",
       "0  https://www.mutualart.com/Artwork/HORSEFEATHER...           0   \n",
       "1  https://www.mutualart.com/Artwork/Starry-Night...           1   \n",
       "2  https://www.mutualart.com/Artwork/Orchids/0BA9...           2   \n",
       "3  https://www.mutualart.com/Artwork/Mrs-Anne-Mur...           3   \n",
       "4  https://www.mutualart.com/Artwork/Horsefeather...           4   \n",
       "\n",
       "   Unnamed: 0.1                    Venue  Year  \n",
       "0           0.0           Doyle New York  1972  \n",
       "1           1.0   Dallas Auction Gallery  1996  \n",
       "2           2.0                Freeman's  1937  \n",
       "3           3.0           Bonhams Oxford  1794  \n",
       "4           4.0  Swann Auction Galleries  1972  "
      ]
     },
     "execution_count": 19,
     "metadata": {},
     "output_type": "execute_result"
    }
   ],
   "source": [
    "df.head()"
   ]
  },
  {
   "cell_type": "code",
   "execution_count": 20,
   "metadata": {
    "scrolled": false
   },
   "outputs": [
    {
     "data": {
      "text/plain": [
       "Art_medium         14818\n",
       "Artist               369\n",
       "Artist_url           369\n",
       "Dimensions         10834\n",
       "Estimate_Price     92151\n",
       "Image_url            165\n",
       "Realized_Price         6\n",
       "Sale_date            169\n",
       "Signed                 1\n",
       "Similar_items        207\n",
       "Title                  0\n",
       "Title_url              0\n",
       "Unnamed: 0             0\n",
       "Unnamed: 0.1      163839\n",
       "Venue                169\n",
       "Year               29771\n",
       "dtype: int64"
      ]
     },
     "execution_count": 20,
     "metadata": {},
     "output_type": "execute_result"
    }
   ],
   "source": [
    "df.isnull().sum()"
   ]
  },
  {
   "cell_type": "code",
   "execution_count": 9,
   "metadata": {},
   "outputs": [],
   "source": [
    "df.drop(columns = ['Unnamed: 0','Unnamed: 0.1'], inplace = True)"
   ]
  },
  {
   "cell_type": "code",
   "execution_count": 10,
   "metadata": {
    "scrolled": false
   },
   "outputs": [
    {
     "name": "stdout",
     "output_type": "stream",
     "text": [
      "<class 'pandas.core.frame.DataFrame'>\n",
      "Int64Index: 165444 entries, 0 to 3051\n",
      "Data columns (total 14 columns):\n",
      "Art_medium        150626 non-null object\n",
      "Artist            165075 non-null object\n",
      "Artist_url        165075 non-null object\n",
      "Dimensions        154610 non-null object\n",
      "Estimate_Price    73293 non-null object\n",
      "Image_url         165279 non-null object\n",
      "Realized_Price    165438 non-null object\n",
      "Sale_date         165275 non-null object\n",
      "Signed            165443 non-null object\n",
      "Similar_items     165237 non-null object\n",
      "Title             165444 non-null object\n",
      "Title_url         165444 non-null object\n",
      "Venue             165275 non-null object\n",
      "Year              135673 non-null object\n",
      "dtypes: object(14)\n",
      "memory usage: 18.9+ MB\n"
     ]
    }
   ],
   "source": [
    "df.info()"
   ]
  },
  {
   "cell_type": "markdown",
   "metadata": {},
   "source": [
    "  "
   ]
  },
  {
   "cell_type": "markdown",
   "metadata": {},
   "source": [
    "<b> Variables are all object type, the following need to be converted:</b>\n",
    "\n",
    "- Estimate Price (int)\n",
    "- Realized Price (int)\n",
    "- Sale_date (datetime)\n",
    "- Signed (binary)\n",
    "- Year (int)\n",
    "- Dimension (float)"
   ]
  },
  {
   "cell_type": "markdown",
   "metadata": {},
   "source": [
    "  "
   ]
  },
  {
   "cell_type": "markdown",
   "metadata": {},
   "source": [
    "<a id=\"realized_price\"></a>\n",
    "### Realized & Estimate Price:\n",
    "\n",
    "---"
   ]
  },
  {
   "cell_type": "markdown",
   "metadata": {},
   "source": [
    "- Since <u>Realized Price is our target variable</u>, we can drop all <u>NaN values</u> in this column before further inspection/cleaning: "
   ]
  },
  {
   "cell_type": "code",
   "execution_count": 11,
   "metadata": {},
   "outputs": [],
   "source": [
    "df.dropna(subset = ['Realized_Price'], inplace = True)"
   ]
  },
  {
   "cell_type": "markdown",
   "metadata": {},
   "source": [
    "#### Converting Realized Price to int type:"
   ]
  },
  {
   "cell_type": "code",
   "execution_count": 12,
   "metadata": {},
   "outputs": [],
   "source": [
    "df.Realized_Price = df.Realized_Price.apply(lambda x: (int(x.replace(',','').replace('=','').replace('\"','').split(' ')[0])))"
   ]
  },
  {
   "cell_type": "markdown",
   "metadata": {},
   "source": [
    "#### Converting Estimated Price to int type:"
   ]
  },
  {
   "cell_type": "code",
   "execution_count": 13,
   "metadata": {},
   "outputs": [],
   "source": [
    "def estimate_clean(x):\n",
    "    try:\n",
    "        list_p = x.replace('USD','').replace(' ','').replace(',','').split('-')\n",
    "        list_n = []\n",
    "        for i in list_p:\n",
    "            list_n.append(int(i))\n",
    "        price_e = sum(list_n)/len(list_n)\n",
    "        return price_e\n",
    "    except:\n",
    "        return x"
   ]
  },
  {
   "cell_type": "code",
   "execution_count": 14,
   "metadata": {},
   "outputs": [],
   "source": [
    "df.Estimate_Price = df.Estimate_Price.apply(estimate_clean)"
   ]
  },
  {
   "cell_type": "markdown",
   "metadata": {},
   "source": [
    "<a id=\"print_variables\"></a>\n",
    "### Print Variables:\n",
    "\n",
    "---\n",
    "\n",
    "- Convert Signed variable to binary, 1 for Signed, 0 for Not Signed.\n",
    "- Signed Variable contains additional information about the number of prints the artwork was part of e.g. 10/100 (#10 out of 100)\n",
    "- As the number of a print may be important  \n",
    "- Assigning new column:  the <u>total number of prints</u> of the artwork"
   ]
  },
  {
   "cell_type": "code",
   "execution_count": 21,
   "metadata": {
    "scrolled": true
   },
   "outputs": [
    {
     "data": {
      "text/plain": [
       "0             Signed.9/78\n",
       "1            Signed.12/40\n",
       "2                 Signed.\n",
       "3                 Signed.\n",
       "4    Signed.Artist'sproof\n",
       "Name: Signed, dtype: object"
      ]
     },
     "execution_count": 21,
     "metadata": {},
     "output_type": "execute_result"
    }
   ],
   "source": [
    "#Signed column currently looks like:\n",
    "df.Signed[:5]"
   ]
  },
  {
   "cell_type": "markdown",
   "metadata": {},
   "source": [
    "#### Seperating and organising relevant information:"
   ]
  },
  {
   "cell_type": "code",
   "execution_count": 23,
   "metadata": {},
   "outputs": [],
   "source": [
    "#if nothing but 'Signed.' is said in the cell, then the artwork is assumed to be a unique print\n",
    "#Otherwise the print number information is seperated out into a list for further analysis\n",
    "\n",
    "def print_num(x):\n",
    "    if x != 'Signed.':\n",
    "        try:\n",
    "            return x.split('.')[1]\n",
    "        except:\n",
    "            return x\n",
    "    else:\n",
    "        return 1"
   ]
  },
  {
   "cell_type": "code",
   "execution_count": 24,
   "metadata": {
    "scrolled": false
   },
   "outputs": [],
   "source": [
    "df['Print_number'] = df.Signed.apply(print_num)"
   ]
  },
  {
   "cell_type": "code",
   "execution_count": 27,
   "metadata": {},
   "outputs": [
    {
     "data": {
      "text/plain": [
       "0             9/78\n",
       "1            12/40\n",
       "2                1\n",
       "3                1\n",
       "4    Artist'sproof\n",
       "Name: Print_number, dtype: object"
      ]
     },
     "execution_count": 27,
     "metadata": {},
     "output_type": "execute_result"
    }
   ],
   "source": [
    "df.Print_number[:5]"
   ]
  },
  {
   "cell_type": "code",
   "execution_count": 17,
   "metadata": {
    "scrolled": false
   },
   "outputs": [],
   "source": [
    "#Fill in NaN cells with 'No' as it is Not signed.\n",
    "\n",
    "df.Signed.fillna('No', inplace = True)\n",
    "df.Print_number.fillna('No', inplace = True)"
   ]
  },
  {
   "cell_type": "code",
   "execution_count": 18,
   "metadata": {
    "scrolled": false
   },
   "outputs": [
    {
     "data": {
      "text/plain": [
       "0"
      ]
     },
     "execution_count": 18,
     "metadata": {},
     "output_type": "execute_result"
    }
   ],
   "source": [
    "df.Print_number.isnull().sum()"
   ]
  },
  {
   "cell_type": "markdown",
   "metadata": {},
   "source": [
    "Find and extract the number of prints\n",
    "\n",
    "<b>Problem</b>\n",
    "1. Column contains roman numerals (i.e I,IX,XXX) as well as latin numbers (i.e. 1,100) \n",
    "    - Hence will need to converting roman numberals to latin numbers\n",
    "- Need to extract total number of prints amongst other numbers"
   ]
  },
  {
   "cell_type": "markdown",
   "metadata": {},
   "source": [
    "**Solution:** ... Regex!\n"
   ]
  },
  {
   "cell_type": "markdown",
   "metadata": {},
   "source": [
    "Function for identifying the max latin number:"
   ]
  },
  {
   "cell_type": "code",
   "execution_count": 20,
   "metadata": {},
   "outputs": [],
   "source": [
    "def total_print(x):\n",
    "    k =[]\n",
    "\n",
    "    try:\n",
    "        t = re.findall(r\"\\d+\", x)        \n",
    "        for i in t:\n",
    "            k.append(int(i))\n",
    "        tot = max(k)\n",
    "    except:\n",
    "        tot = x\n",
    "        \n",
    "    return tot"
   ]
  },
  {
   "cell_type": "markdown",
   "metadata": {},
   "source": [
    "Function for converting roman numerals to latin numbers:"
   ]
  },
  {
   "cell_type": "code",
   "execution_count": null,
   "metadata": {},
   "outputs": [],
   "source": [
    "def roman_to_int(s):\n",
    "        rom_val = {'I': 1, 'V': 5, 'X': 10, 'L': 50, 'C': 100, 'D': 500, 'M': 1000}\n",
    "        int_val = 0\n",
    "        for i in range(len(s)):\n",
    "            if i > 0 and rom_val[s[i]] > rom_val[s[i - 1]]:\n",
    "                int_val += rom_val[s[i]] - 2 * rom_val[s[i - 1]]\n",
    "            else:\n",
    "                int_val += rom_val[s[i]]\n",
    "        return int_val"
   ]
  },
  {
   "cell_type": "markdown",
   "metadata": {},
   "source": [
    "Function for identifying the max roman numeral:"
   ]
  },
  {
   "cell_type": "code",
   "execution_count": 21,
   "metadata": {},
   "outputs": [],
   "source": [
    "def roman_print(x):\n",
    "    k=[]\n",
    "    if isinstance(x,str):\n",
    "        try:\n",
    "            rl = re.findall(r'[I,V,X,L,C,D,M]+',x)\n",
    "            for l in rl:\n",
    "                k.append(roman_to_int(l))\n",
    "            tot = max(k)\n",
    "        except:\n",
    "            tot = x\n",
    "    else:\n",
    "        tot = x\n",
    "    return tot"
   ]
  },
  {
   "cell_type": "code",
   "execution_count": 22,
   "metadata": {},
   "outputs": [],
   "source": [
    "#manual cleaning of words in the data column.\n",
    "def word_print(x):\n",
    "    exceptionlist = [\"Artist'sproof\",\"artist'sproof\",'No',\"Arist'sProof\",\n",
    "                     \"Artist'sProof\",\"Artist's\",\"Artist'sproofs\",\"Artist'sproff\",\n",
    "                     'ArtistPrint','ArtistProof','ArtistProofsfromaneditionofsmalledition','Artistproof',\n",
    "                     \"Artists'proof\",\"Artists'proofs\",'ArtistsProof','Artistsproof','Artist’sproof',\n",
    "                     \"EachArtist'sproofs\",\"Eachartist'sproof\",\"Eachprinter'sproof\",\"Epreuved'Artiste\",\n",
    "                     \"Epreuved'artiste\",'FirstParis','Firstedition,IkedaPublishers','H','Horscommerce',\n",
    "                     'Horsdecommerce','Horsdecommerce,','Onefromanunknowneditionsize','Onefromanunlimitededition',\n",
    "                     'Oneofapprox','Oneofjustafewtrialproofs','Oneofonlyseveralproofs',\n",
    "                     'Oneofonlyseveralproofs(therewasnopublishededition)','Oneofsevenrecordedproofs',\n",
    "                     'Oneofthefewfirststateproofs', \"Printer'sProof\",\"Printer'sproof\",'PrintersProof','Proof',\n",
    "                     'Rare','Soleknowncopyfromanedition',\"Thisworkisuniqueplusoneartist'sproof\",\"Trial'sproof\",\n",
    "                     'TrialProof','TrialProofNo','Trialproof','TrialproofbeforethePANedition','Uniquefromanedition',\n",
    "                     'Uniquepiecefromanedition','ararebonàtirerimpression','arareearlyproof',\"artisrt'sproof\",\n",
    "                     \"artist'sproof',artist'sproofs\",\"artist'sproof,arareprint,fromonlyafewproofs,theprintwasnevereditioned\",\n",
    "                     'auniquecolorvariant','auniquetrialproofofthisveryrareprint','beforetheeditionofonehundred',\n",
    "                     'bonatirer','bonàtirer','bonàtirerproof','one/one',\"printer'sproof\",\n",
    "                     \"printer'sproof,artist'sproof\",\"thisworkisanartist'sproof\",'thisworkisfromalimitededition',\n",
    "                     'trailproof','trialproof','unique','uniqueartwork','uniquefromanedition',\"withartist'sproof\",\n",
    "                     \"withartist'sproofs\",\"withprinter'sproof\",'workingcolorproof','workingproof',\"épreuved'artist\",\n",
    "                     \"épreuved'artiste\"]\n",
    "    if isinstance(x,int):\n",
    "        return x\n",
    "    elif x in exceptionlist:\n",
    "        tot = 1\n",
    "    else:\n",
    "        tot = np.nan\n",
    "    \n",
    "    return tot\n",
    "    "
   ]
  },
  {
   "cell_type": "code",
   "execution_count": 23,
   "metadata": {
    "scrolled": false
   },
   "outputs": [],
   "source": [
    "df['Total_prints'] = df.Print_number.apply(total_print)"
   ]
  },
  {
   "cell_type": "code",
   "execution_count": 24,
   "metadata": {
    "scrolled": false
   },
   "outputs": [],
   "source": [
    "df['Total_prints'] = df.Total_prints.apply(roman_print)"
   ]
  },
  {
   "cell_type": "code",
   "execution_count": 25,
   "metadata": {},
   "outputs": [],
   "source": [
    "df['Total_prints'] = df.Total_prints.apply(word_print)"
   ]
  },
  {
   "cell_type": "code",
   "execution_count": 26,
   "metadata": {},
   "outputs": [
    {
     "data": {
      "text/plain": [
       "2493"
      ]
     },
     "execution_count": 26,
     "metadata": {},
     "output_type": "execute_result"
    }
   ],
   "source": [
    "df.Total_prints.isnull().sum()"
   ]
  },
  {
   "cell_type": "markdown",
   "metadata": {},
   "source": [
    "#### Signed or Not:\n",
    "\n",
    "- Setting variable signed to being binary (1 = Signed, 0 = Not Signed)"
   ]
  },
  {
   "cell_type": "code",
   "execution_count": 27,
   "metadata": {},
   "outputs": [],
   "source": [
    "def binary_signed(x):\n",
    "    try:\n",
    "        if x == 'No':\n",
    "            return 0\n",
    "        else:\n",
    "            return 1\n",
    "    except:\n",
    "        return 'error'"
   ]
  },
  {
   "cell_type": "code",
   "execution_count": 28,
   "metadata": {},
   "outputs": [],
   "source": [
    "df.Signed = df.Signed.apply(binary_signed)"
   ]
  },
  {
   "cell_type": "code",
   "execution_count": 29,
   "metadata": {
    "scrolled": false
   },
   "outputs": [
    {
     "data": {
      "text/plain": [
       "1    125768\n",
       "0     39670\n",
       "Name: Signed, dtype: int64"
      ]
     },
     "execution_count": 29,
     "metadata": {},
     "output_type": "execute_result"
    }
   ],
   "source": [
    "df.Signed.value_counts()"
   ]
  },
  {
   "cell_type": "markdown",
   "metadata": {},
   "source": [
    "<a id=\"datetime_variables\"></a>\n",
    "### Datetime Variables:\n",
    "\n",
    "---"
   ]
  },
  {
   "cell_type": "markdown",
   "metadata": {},
   "source": [
    "- Converting dates to datetime type (i.e. Sale_date and Year):"
   ]
  },
  {
   "cell_type": "code",
   "execution_count": 28,
   "metadata": {},
   "outputs": [
    {
     "data": {
      "text/plain": [
       "0    Oct. 16, 2012\n",
       "1    Oct. 24, 2012\n",
       "2     May 08, 2002\n",
       "3    Nov. 28, 2012\n",
       "4    Nov. 15, 2012\n",
       "Name: Sale_date, dtype: object"
      ]
     },
     "execution_count": 28,
     "metadata": {},
     "output_type": "execute_result"
    }
   ],
   "source": [
    "df.Sale_date[:5]"
   ]
  },
  {
   "cell_type": "code",
   "execution_count": 29,
   "metadata": {},
   "outputs": [],
   "source": [
    "def convert_datetime(x):\n",
    "    try:\n",
    "        conv = datetime(x)\n",
    "    except:\n",
    "        try:\n",
    "            conv = x.replace(',','').replace('.','')\n",
    "#             conv = datetime.strptime(symbolsrm, '%b %d %Y')\n",
    "        except:\n",
    "            conv = np.nan\n",
    "    \n",
    "    return conv"
   ]
  },
  {
   "cell_type": "code",
   "execution_count": 30,
   "metadata": {},
   "outputs": [],
   "source": [
    "df.Sale_date = df.Sale_date.apply(convert_datetime)"
   ]
  },
  {
   "cell_type": "markdown",
   "metadata": {},
   "source": [
    "<u>Taking a look at the Year column:</u>\n",
    "- Some are in century format\n",
    "- Some are combined with words"
   ]
  },
  {
   "cell_type": "code",
   "execution_count": 34,
   "metadata": {},
   "outputs": [
    {
     "data": {
      "text/plain": [
       "28             NaN\n",
       "29    19th Century\n",
       "30             NaN\n",
       "31            1893\n",
       "32            1836\n",
       "33            1918\n",
       "34      circa 1890\n",
       "35      circa 1950\n",
       "Name: Year, dtype: object"
      ]
     },
     "execution_count": 34,
     "metadata": {},
     "output_type": "execute_result"
    }
   ],
   "source": [
    "df.Year[28:36]"
   ]
  },
  {
   "cell_type": "code",
   "execution_count": 36,
   "metadata": {},
   "outputs": [],
   "source": [
    "def year_clean(x):\n",
    "    try:\n",
    "        t = re.findall(r\"\\d+\", x)\n",
    "        if len(t)==1:\n",
    "            if len(t[0])==4 and int(t[0])<2020:\n",
    "                w = t[0]\n",
    "            elif len(t[0])==2 and int(t[0])<22:\n",
    "                w = t[0]+'00'\n",
    "            else:\n",
    "                w = np.nan\n",
    "            return datetime.strptime(w, '%Y').year\n",
    "        \n",
    "        elif len(t)==2:\n",
    "            if len(t[0])==4 and int(t[0])<2020:\n",
    "                w = t[0]\n",
    "            elif len(t[0])==2 and int(t[0])<22:\n",
    "                w = t[0]+'00'\n",
    "            elif len(t[1])==4 and int(t[1])<2020:\n",
    "                w = t[1]\n",
    "            elif len(t[1])==2 and int(t[1])<22:\n",
    "                w = t[1]+'00'\n",
    "            else:\n",
    "                w = np.nan\n",
    "            return datetime.strptime(w, '%Y').year\n",
    "        \n",
    "        elif len(t)>2:\n",
    "            if len(t[0])==4 and int(t[0])<2020:\n",
    "                w = t[0]\n",
    "            elif len(t[0])==2 and int(t[0])<22:\n",
    "                w = t[0]+'00'\n",
    "            elif len(t[1])==4 and int(t[1])<2020:\n",
    "                w = t[1]\n",
    "            elif len(t[1])==2 and int(t[1])<22:\n",
    "                w = t[1]+'00'\n",
    "            elif len(t[2])==4 and int(t[2])<2020:\n",
    "                w = t[2]\n",
    "            elif len(t[2])==2 and int(t[2])<22:\n",
    "                w = t[1]+'00'\n",
    "            else:\n",
    "                w = np.nan\n",
    "            return datetime.strptime(w, '%Y').year\n",
    "        \n",
    "        else:\n",
    "            return np.nan\n",
    "    except:\n",
    "        return np.nan"
   ]
  },
  {
   "cell_type": "code",
   "execution_count": 37,
   "metadata": {
    "scrolled": true
   },
   "outputs": [],
   "source": [
    "df.Year = df.Year.apply(year_clean)"
   ]
  },
  {
   "cell_type": "code",
   "execution_count": 38,
   "metadata": {
    "scrolled": true
   },
   "outputs": [
    {
     "data": {
      "text/plain": [
       "28       NaN\n",
       "29    1900.0\n",
       "30       NaN\n",
       "31    1893.0\n",
       "32    1836.0\n",
       "33    1918.0\n",
       "34    1890.0\n",
       "35    1950.0\n",
       "Name: Year, dtype: float64"
      ]
     },
     "execution_count": 38,
     "metadata": {},
     "output_type": "execute_result"
    }
   ],
   "source": [
    "df.Year[28:36]"
   ]
  },
  {
   "cell_type": "markdown",
   "metadata": {},
   "source": [
    "<a id=\"dimensions_variables\"></a>\n",
    "### Dimensions Variable:\n",
    "\n",
    "---"
   ]
  },
  {
   "cell_type": "markdown",
   "metadata": {},
   "source": [
    "<b>Problem:</b>\n",
    "1. There are multiple units in the column, cm, mm, inches and ft\n",
    "2. One cell may contain more than one unit\n",
    "\n",
    "<b>Solution:</b>\n",
    "<u>Using RegEx:</u> \n",
    "- find the unit(s) used\n",
    "- find the length of dimensions\n"
   ]
  },
  {
   "cell_type": "code",
   "execution_count": 35,
   "metadata": {},
   "outputs": [],
   "source": [
    "def find_units(x):\n",
    "    try:\n",
    "        unit = []\n",
    "        p = re.findall(r'(?:cm|mm|in|ft|\")',x)\n",
    "        r = ['in' if i =='\"' else i for i in p]\n",
    "        \n",
    "        for i in r:\n",
    "            if i not in unit:\n",
    "                unit.append(i)\n",
    "            else:\n",
    "                pass\n",
    "        return unit\n",
    "    except:\n",
    "        return x"
   ]
  },
  {
   "cell_type": "code",
   "execution_count": 36,
   "metadata": {
    "scrolled": true
   },
   "outputs": [],
   "source": [
    "df['Dimension_units'] = df.Dimensions.apply(find_units)"
   ]
  },
  {
   "cell_type": "code",
   "execution_count": 37,
   "metadata": {
    "scrolled": false
   },
   "outputs": [
    {
     "data": {
      "text/plain": [
       "[in]            41080\n",
       "[cm]            32348\n",
       "[mm]            19975\n",
       "[mm, in]        19090\n",
       "[in, mm]        18538\n",
       "[in, cm]        12893\n",
       "[cm, in]         7898\n",
       "[]               2743\n",
       "[mm, ft]            5\n",
       "[ft, cm]            4\n",
       "[in, cm, mm]        4\n",
       "[mm, in, ft]        4\n",
       "[cm, mm]            3\n",
       "[in, cm, ft]        2\n",
       "[mm, cm]            2\n",
       "[cm, mm, in]        2\n",
       "[ft, mm]            2\n",
       "[mm, ft, in]        2\n",
       "[in, ft, mm]        2\n",
       "[cm, ft]            1\n",
       "[in, ft, cm]        1\n",
       "[mm, in, cm]        1\n",
       "[ft, in, cm]        1\n",
       "[cm, in, mm]        1\n",
       "[ft, mm, in]        1\n",
       "[cm, ft, in]        1\n",
       "[ft, in]            1\n",
       "Name: Dimension_units, dtype: int64"
      ]
     },
     "execution_count": 37,
     "metadata": {},
     "output_type": "execute_result"
    }
   ],
   "source": [
    "df.Dimension_units.value_counts()"
   ]
  },
  {
   "cell_type": "code",
   "execution_count": 38,
   "metadata": {
    "scrolled": true
   },
   "outputs": [],
   "source": [
    "def dimension_value(x):\n",
    "    try:\n",
    "        r = re.findall(r'[\\W,\\d]+',x)\n",
    "        d = []\n",
    "        for i in r:\n",
    "            d.append(i.strip().replace('\"','').replace('-',' ').replace('(', ' ').replace(')', ' '))\n",
    "        e = []\n",
    "        for j in d:\n",
    "            e.append(j.split())\n",
    "        f = []\n",
    "        for k in e:\n",
    "            k3 =[]\n",
    "            for k1 in k:\n",
    "                if '/'in k1:\n",
    "                    k2 = k1.split('/')\n",
    "                    k3.append(int(k2[0])/int(k2[1]))\n",
    "                else:\n",
    "                    try:\n",
    "                        k3.append(float(k1))\n",
    "                    except:\n",
    "                        pass\n",
    "            f.append(sum(k3))\n",
    "        g =[]\n",
    "        for g1 in f:\n",
    "            if g1 > 0:\n",
    "                g.append(g1)\n",
    "            else:\n",
    "                pass\n",
    "        return g\n",
    "    except:\n",
    "        return x\n",
    "    "
   ]
  },
  {
   "cell_type": "code",
   "execution_count": 39,
   "metadata": {},
   "outputs": [],
   "source": [
    "df['Dimemsion_values_d'] = df.Dimensions.apply(dimension_value)"
   ]
  },
  {
   "cell_type": "code",
   "execution_count": 40,
   "metadata": {},
   "outputs": [],
   "source": [
    "df.reset_index(drop=True, inplace = True)"
   ]
  },
  {
   "cell_type": "code",
   "execution_count": 41,
   "metadata": {},
   "outputs": [
    {
     "data": {
      "text/plain": [
       "165438"
      ]
     },
     "execution_count": 41,
     "metadata": {},
     "output_type": "execute_result"
    }
   ],
   "source": [
    "df.shape[0]"
   ]
  },
  {
   "cell_type": "markdown",
   "metadata": {},
   "source": [
    "<u>Convert all dimensions to the same unit: inches</u> \n",
    "- Find position of dimensions in inches\n",
    "- If no dimensions in inches then convert to inches accordingly"
   ]
  },
  {
   "cell_type": "code",
   "execution_count": 42,
   "metadata": {},
   "outputs": [],
   "source": [
    "unit_conv_inch = []\n",
    "\n",
    "for i in range(df.shape[0]):\n",
    "    a = df.Dimension_units[i]\n",
    "    b = df.Dimemsion_values_d[i]\n",
    "    \n",
    "    try:\n",
    "        if len(a) == 1:\n",
    "            if len(b)==1 or len(b)==2:\n",
    "                if 'in' in a:\n",
    "                    unit_conv_inch.append(b)\n",
    "                elif 'cm' in a:\n",
    "                    b1 = []\n",
    "                    for ii in b:\n",
    "                        b1.append(ii*0.394)\n",
    "                    unit_conv_inch.append(b1)\n",
    "                elif 'mm' in a:\n",
    "                    b1_ = []\n",
    "                    for ii_ in b:\n",
    "                        b1_.append(ii_*0.0394)\n",
    "                    unit_conv_inch.append(b1_)\n",
    "                elif 'ft' in a:\n",
    "                    _b1 = []\n",
    "                    for _ii in b:\n",
    "                        _b1.append(_ii*12)\n",
    "                    unit_conv_inch.append(_b1)\n",
    "                else:\n",
    "                    unit_conv_inch.append(np.nan)\n",
    "            elif len(b)==4:\n",
    "                if 'in' in a:\n",
    "                    unit_conv_inch.append([b[0],b[1]])\n",
    "                elif 'cm' in a:\n",
    "                    b1 = []\n",
    "                    for ii in b:\n",
    "                        b1.append(ii*0.394)\n",
    "                    unit_conv_inch.append([b1[0],b1[1]])\n",
    "                elif 'mm' in a:\n",
    "                    b1_ = []\n",
    "                    for ii_ in b:\n",
    "                        b1_.append(ii_*0.0394)\n",
    "                    unit_conv_inch.append([b1_[0],b1_[1]])\n",
    "                elif 'ft' in a:\n",
    "                    _b1 = []\n",
    "                    for _ii in b:\n",
    "                        _b1.append(_ii*12)\n",
    "                    unit_conv_inch.append([_b1[0],_b1[1]])\n",
    "                else:\n",
    "                    unit_conv_inch.append(np.nan)\n",
    "            else:\n",
    "                unit_conv_inch.append(np.nan)\n",
    "        elif len(a) == 2:\n",
    "            if 'in' in a and len(b)==2:\n",
    "                ind = a.index('in')\n",
    "                unit_conv_inch.append([b[ind]])\n",
    "            elif 'mm' in a and len(b)==2:\n",
    "                ind_ = a.index('mm')\n",
    "                unit_conv_inch.append([b[ind_]*0.0394])\n",
    "            elif 'cm' in a and len(b)==2:\n",
    "                _ind = a.index('cm')\n",
    "                unit_conv_inch.append([b[_ind]*0.394])\n",
    "\n",
    "            elif 'in' in a and len(b)>3:\n",
    "                inde = a.index('in')\n",
    "                unit_conv_inch.append([b[inde+inde],b[inde+inde+1]])\n",
    "            elif 'mm' in a and len(b)>3:\n",
    "                inde_ = a.index('mm')\n",
    "                unit_conv_inch.append([b[inde_+inde_]*0.0394,b[inde_+inde_+1]*0.0394])\n",
    "            elif 'cm' in a and len(b)>3:\n",
    "                _inde = a.index('cm')\n",
    "                unit_conv_inch.append([b[_inde+_inde]*0.394,b[_inde+_inde+1]*0.394])\n",
    "            else:\n",
    "                unit_conv_inch.append(np.nan)\n",
    "\n",
    "        elif len(a) == 3:\n",
    "            if 'in' in a and len(b)==3:\n",
    "                indee = a.index('in')\n",
    "                unit_conv_inch.append([b[indee]])\n",
    "            elif 'mm' in a and len(b)==3:\n",
    "                indee_ = a.index('mm')\n",
    "                unit_conv_inch.append([b[indee_]*0.0394])\n",
    "            elif 'cm' in a and len(b)==3:\n",
    "                _ind = a.index('cm')\n",
    "                unit_conv_inch.append([b[_ind]*0.394])\n",
    "\n",
    "            elif 'in' in a and len(b)>5:\n",
    "                indeee = a.index('in')\n",
    "                unit_conv_inch.append([b[indeee+indeee],b[indeee+indeee+1]])\n",
    "            elif 'mm' in a and len(b)>3:\n",
    "                indeee_ = a.index('mm')\n",
    "                unit_conv_inch.append([b[indeee_+indeee_]*0.0394,b[indeee_+indeee_+1]*0.0394])\n",
    "            elif 'cm' in a and len(b)>3:\n",
    "                _indeee = a.index('cm')\n",
    "                unit_conv_inch.append([b[_indeee+_indeee]*0.394,b[_indeee+_indeee+1]*0.394])\n",
    "            else:\n",
    "                unit_conv_inch.append(np.nan)\n",
    "        else:\n",
    "            unit_conv_inch.append(np.nan)\n",
    "    \n",
    "    except:\n",
    "        unit_conv_inch.append(np.nan)\n",
    "            \n",
    "            \n",
    "        "
   ]
  },
  {
   "cell_type": "code",
   "execution_count": 43,
   "metadata": {},
   "outputs": [],
   "source": [
    "df['dimension_inch'] = unit_conv_inch"
   ]
  },
  {
   "cell_type": "code",
   "execution_count": 44,
   "metadata": {},
   "outputs": [],
   "source": [
    "lengthdimen =[]\n",
    "for i in range(df.shape[0]):\n",
    "    try:\n",
    "        j = len(df.dimension_inch[i])\n",
    "        if j not in lengthdimen:\n",
    "            lengthdimen.append(j)\n",
    "    except:\n",
    "        pass"
   ]
  },
  {
   "cell_type": "code",
   "execution_count": 45,
   "metadata": {
    "scrolled": true
   },
   "outputs": [
    {
     "data": {
      "text/plain": [
       "[2, 1]"
      ]
     },
     "execution_count": 45,
     "metadata": {},
     "output_type": "execute_result"
    }
   ],
   "source": [
    "lengthdimen"
   ]
  },
  {
   "cell_type": "markdown",
   "metadata": {},
   "source": [
    "<b> Converting dimensions given in lenght to a single Area variable, inches**2 </b>\n",
    "- Find the area of the artwork by multiplying the dimensions in inches together.\n",
    "- This gives a single number for describing the artwork dimension allowing for easier analysis.\n",
    "- For data with two variable multiply by each other and for ones with one variable, assume shape of artwork to be square so multiply by itself.\n"
   ]
  },
  {
   "cell_type": "code",
   "execution_count": 46,
   "metadata": {},
   "outputs": [],
   "source": [
    "def dimension_area(x):\n",
    "    try:\n",
    "        if len(x)==2:\n",
    "            return x[0]*x[1]\n",
    "        elif len(x) == 1:\n",
    "            return x[0]*x[0]\n",
    "        else:\n",
    "            return np.nan\n",
    "    except:\n",
    "        return np.nan\n",
    "    "
   ]
  },
  {
   "cell_type": "code",
   "execution_count": 47,
   "metadata": {},
   "outputs": [],
   "source": [
    "df['Area_dimension'] = df.dimension_inch.apply(dimension_area)"
   ]
  },
  {
   "cell_type": "markdown",
   "metadata": {},
   "source": [
    "### Saving dataframe to .csv file\n",
    "---"
   ]
  },
  {
   "cell_type": "code",
   "execution_count": 69,
   "metadata": {},
   "outputs": [],
   "source": [
    "df.to_csv('auction_data.csv')"
   ]
  },
  {
   "cell_type": "markdown",
   "metadata": {},
   "source": [
    "   "
   ]
  }
 ],
 "metadata": {
  "kernelspec": {
   "display_name": "Python 3",
   "language": "python",
   "name": "python3"
  },
  "language_info": {
   "codemirror_mode": {
    "name": "ipython",
    "version": 3
   },
   "file_extension": ".py",
   "mimetype": "text/x-python",
   "name": "python",
   "nbconvert_exporter": "python",
   "pygments_lexer": "ipython3",
   "version": "3.7.3"
  }
 },
 "nbformat": 4,
 "nbformat_minor": 2
}
