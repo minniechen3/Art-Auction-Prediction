{
 "cells": [
  {
   "cell_type": "markdown",
   "metadata": {},
   "source": [
    "<img src=\"http://imgur.com/1ZcRyrc.png\" style=\"float: left; margin: 20px; height: 55px\">\n",
    "\n",
    "# Classification Modelling\n",
    "---"
   ]
  },
  {
   "cell_type": "markdown",
   "metadata": {},
   "source": [
    "### Classification Guide:\n",
    "\n",
    "- [Outline](#outline)\n",
    "- [Pre-Processing Data](#preprocess)\n",
    "- [Baseline Model](#baseline)\n",
    "- [Principal Component Analysis](#PCA)\n",
    "- [Logistic Regression](#logistic) \n",
    "- [KNeighbour Classifier](#knn)\n",
    "- [Decision Tree Classifier](#tree)\n",
    "- [Bagging Classifier](#bag)\n",
    "- [Random Forest Classifier](#forest)"
   ]
  },
  {
   "cell_type": "code",
   "execution_count": 3,
   "metadata": {
    "scrolled": true
   },
   "outputs": [],
   "source": [
    "import pandas as pd\n",
    "import numpy as np\n",
    "import re, time\n",
    "from datetime import datetime\n",
    "import seaborn as sns\n",
    "import matplotlib.pyplot as plt\n",
    "%matplotlib inline\n",
    "from sklearn.feature_extraction.text import CountVectorizer, TfidfVectorizer\n",
    "from sklearn.cluster import DBSCAN,KMeans\n",
    "from sklearn.decomposition import PCA\n",
    "from sklearn.preprocessing import StandardScaler\n",
    "from sklearn import datasets, linear_model, metrics\n",
    "from nltk.corpus import stopwords\n",
    "import scikitplot as skplt\n",
    "from tqdm import tqdm_notebook\n",
    "\n",
    "from sklearn.model_selection import train_test_split, GridSearchCV, cross_val_score\n",
    "from sklearn.model_selection import StratifiedKFold, KFold\n",
    "from sklearn.preprocessing import StandardScaler\n",
    "from sklearn.metrics import r2_score, classification_report, confusion_matrix, accuracy_score\n",
    "from sklearn.tree import DecisionTreeClassifier\n",
    "from sklearn.ensemble import BaggingClassifier, RandomForestClassifier\n",
    "from sklearn.neighbors import KNeighborsClassifier\n",
    "from sklearn.linear_model import LogisticRegression\n",
    "from sklearn import svm, linear_model\n",
    "from imblearn.over_sampling import RandomOverSampler\n",
    "from imblearn.pipeline import make_pipeline\n",
    "\n",
    "from joblib import dump, load\n",
    "from sklearn.externals.six import StringIO\n",
    "from sklearn.tree import export_graphviz\n",
    "from IPython.display import Image\n",
    "import pydotplus\n",
    "\n",
    "import warnings\n",
    "warnings.simplefilter('ignore')\n",
    "%config InlineBackend.figure_format = 'retina'\n",
    "# pd.set_option('display.max_rows', 1000)"
   ]
  },
  {
   "cell_type": "markdown",
   "metadata": {},
   "source": [
    "<a id=\"outline\"></a>\n",
    "### Classification Modelling:\n",
    "- My target has now been redefined to being categorical, therefore it is now a classification problem\n",
    "- I will be using the following classification models to predict the target classes:\n",
    "    - Logistic Regression\n",
    "    - KNeighbour Classifier\n",
    "    - Decision Tree Classifier\n",
    "    - Bagging Classifier\n",
    "    - Random Forest Classifier\n"
   ]
  },
  {
   "cell_type": "markdown",
   "metadata": {},
   "source": [
    "<a id=\"preprocess\"></a>\n",
    "#### Pre-processing data:\n",
    "---\n",
    "\n",
    "- First try binary classification: <b>Buy(1) or Sell(0)</b>"
   ]
  },
  {
   "cell_type": "code",
   "execution_count": 5,
   "metadata": {},
   "outputs": [],
   "source": [
    "df_class = pd.read_csv('categorical_data.csv')"
   ]
  },
  {
   "cell_type": "code",
   "execution_count": 6,
   "metadata": {},
   "outputs": [],
   "source": [
    "def binary_buysell(x):\n",
    "    if x == 'Strong_Buy':\n",
    "        return 1\n",
    "    elif x == 'Buy':\n",
    "        return 1\n",
    "    elif x == 'Strong_Sell':\n",
    "        return 0\n",
    "    else:\n",
    "        return 0"
   ]
  },
  {
   "cell_type": "code",
   "execution_count": 7,
   "metadata": {},
   "outputs": [],
   "source": [
    "df_class.Target = df_class.Target.apply(binary_buysell)"
   ]
  },
  {
   "cell_type": "code",
   "execution_count": 8,
   "metadata": {
    "scrolled": false
   },
   "outputs": [
    {
     "data": {
      "text/html": [
       "<div>\n",
       "<style scoped>\n",
       "    .dataframe tbody tr th:only-of-type {\n",
       "        vertical-align: middle;\n",
       "    }\n",
       "\n",
       "    .dataframe tbody tr th {\n",
       "        vertical-align: top;\n",
       "    }\n",
       "\n",
       "    .dataframe thead th {\n",
       "        text-align: right;\n",
       "    }\n",
       "</style>\n",
       "<table border=\"1\" class=\"dataframe\">\n",
       "  <thead>\n",
       "    <tr style=\"text-align: right;\">\n",
       "      <th></th>\n",
       "      <th>Unnamed: 0</th>\n",
       "      <th>Artist</th>\n",
       "      <th>Art_period</th>\n",
       "      <th>Medium_Class</th>\n",
       "      <th>Signed</th>\n",
       "      <th>Total_prints</th>\n",
       "      <th>Area_dimension</th>\n",
       "      <th>Sale_Year</th>\n",
       "      <th>Sale_Month</th>\n",
       "      <th>Sale_Day</th>\n",
       "      <th>Venue_city</th>\n",
       "      <th>Alive</th>\n",
       "      <th>performance_index</th>\n",
       "      <th>hist_1</th>\n",
       "      <th>Target</th>\n",
       "      <th>diff_1</th>\n",
       "      <th>diff_2</th>\n",
       "    </tr>\n",
       "  </thead>\n",
       "  <tbody>\n",
       "    <tr>\n",
       "      <th>0</th>\n",
       "      <td>0</td>\n",
       "      <td>Robert Rauschenberg</td>\n",
       "      <td>Abstract_Expressionism</td>\n",
       "      <td>14</td>\n",
       "      <td>1</td>\n",
       "      <td>78.0</td>\n",
       "      <td>580.50</td>\n",
       "      <td>2012</td>\n",
       "      <td>10</td>\n",
       "      <td>16</td>\n",
       "      <td>New York</td>\n",
       "      <td>0</td>\n",
       "      <td>5.494042</td>\n",
       "      <td>14341.735294</td>\n",
       "      <td>1</td>\n",
       "      <td>1.871849</td>\n",
       "      <td>0.542441</td>\n",
       "    </tr>\n",
       "    <tr>\n",
       "      <th>1</th>\n",
       "      <td>1</td>\n",
       "      <td>Robert Rauschenberg</td>\n",
       "      <td>Abstract_Expressionism</td>\n",
       "      <td>29</td>\n",
       "      <td>1</td>\n",
       "      <td>1.0</td>\n",
       "      <td>279.50</td>\n",
       "      <td>2012</td>\n",
       "      <td>11</td>\n",
       "      <td>15</td>\n",
       "      <td>New York</td>\n",
       "      <td>0</td>\n",
       "      <td>5.494042</td>\n",
       "      <td>14341.735294</td>\n",
       "      <td>1</td>\n",
       "      <td>1.871849</td>\n",
       "      <td>0.542441</td>\n",
       "    </tr>\n",
       "    <tr>\n",
       "      <th>2</th>\n",
       "      <td>2</td>\n",
       "      <td>Robert Rauschenberg</td>\n",
       "      <td>Abstract_Expressionism</td>\n",
       "      <td>29</td>\n",
       "      <td>1</td>\n",
       "      <td>34.0</td>\n",
       "      <td>1644.75</td>\n",
       "      <td>2012</td>\n",
       "      <td>10</td>\n",
       "      <td>30</td>\n",
       "      <td>New York</td>\n",
       "      <td>0</td>\n",
       "      <td>5.494042</td>\n",
       "      <td>14341.735294</td>\n",
       "      <td>0</td>\n",
       "      <td>1.871849</td>\n",
       "      <td>0.542441</td>\n",
       "    </tr>\n",
       "    <tr>\n",
       "      <th>3</th>\n",
       "      <td>3</td>\n",
       "      <td>Robert Rauschenberg</td>\n",
       "      <td>Abstract_Expressionism</td>\n",
       "      <td>29</td>\n",
       "      <td>1</td>\n",
       "      <td>1.0</td>\n",
       "      <td>1221.00</td>\n",
       "      <td>2012</td>\n",
       "      <td>6</td>\n",
       "      <td>19</td>\n",
       "      <td>New York</td>\n",
       "      <td>0</td>\n",
       "      <td>5.494042</td>\n",
       "      <td>14341.735294</td>\n",
       "      <td>1</td>\n",
       "      <td>1.871849</td>\n",
       "      <td>0.542441</td>\n",
       "    </tr>\n",
       "    <tr>\n",
       "      <th>4</th>\n",
       "      <td>4</td>\n",
       "      <td>Robert Rauschenberg</td>\n",
       "      <td>Abstract_Expressionism</td>\n",
       "      <td>29</td>\n",
       "      <td>1</td>\n",
       "      <td>1.0</td>\n",
       "      <td>88.00</td>\n",
       "      <td>2012</td>\n",
       "      <td>2</td>\n",
       "      <td>25</td>\n",
       "      <td>Cincinnati</td>\n",
       "      <td>0</td>\n",
       "      <td>5.494042</td>\n",
       "      <td>14341.735294</td>\n",
       "      <td>0</td>\n",
       "      <td>1.871849</td>\n",
       "      <td>0.542441</td>\n",
       "    </tr>\n",
       "  </tbody>\n",
       "</table>\n",
       "</div>"
      ],
      "text/plain": [
       "   Unnamed: 0               Artist              Art_period  Medium_Class  \\\n",
       "0           0  Robert Rauschenberg  Abstract_Expressionism            14   \n",
       "1           1  Robert Rauschenberg  Abstract_Expressionism            29   \n",
       "2           2  Robert Rauschenberg  Abstract_Expressionism            29   \n",
       "3           3  Robert Rauschenberg  Abstract_Expressionism            29   \n",
       "4           4  Robert Rauschenberg  Abstract_Expressionism            29   \n",
       "\n",
       "   Signed  Total_prints  Area_dimension  Sale_Year  Sale_Month  Sale_Day  \\\n",
       "0       1          78.0          580.50       2012          10        16   \n",
       "1       1           1.0          279.50       2012          11        15   \n",
       "2       1          34.0         1644.75       2012          10        30   \n",
       "3       1           1.0         1221.00       2012           6        19   \n",
       "4       1           1.0           88.00       2012           2        25   \n",
       "\n",
       "   Venue_city  Alive  performance_index        hist_1  Target    diff_1  \\\n",
       "0    New York      0           5.494042  14341.735294       1  1.871849   \n",
       "1    New York      0           5.494042  14341.735294       1  1.871849   \n",
       "2    New York      0           5.494042  14341.735294       0  1.871849   \n",
       "3    New York      0           5.494042  14341.735294       1  1.871849   \n",
       "4  Cincinnati      0           5.494042  14341.735294       0  1.871849   \n",
       "\n",
       "     diff_2  \n",
       "0  0.542441  \n",
       "1  0.542441  \n",
       "2  0.542441  \n",
       "3  0.542441  \n",
       "4  0.542441  "
      ]
     },
     "execution_count": 8,
     "metadata": {},
     "output_type": "execute_result"
    }
   ],
   "source": [
    "df_class.head()"
   ]
  },
  {
   "cell_type": "code",
   "execution_count": 9,
   "metadata": {},
   "outputs": [],
   "source": [
    "df_class.drop(columns = ['Unnamed: 0','Alive'], inplace = True)"
   ]
  },
  {
   "cell_type": "code",
   "execution_count": 10,
   "metadata": {},
   "outputs": [],
   "source": [
    "df = df_class.copy(deep=True)"
   ]
  },
  {
   "cell_type": "code",
   "execution_count": 11,
   "metadata": {},
   "outputs": [],
   "source": [
    "df = df[df.Sale_Year>2008]"
   ]
  },
  {
   "cell_type": "code",
   "execution_count": 12,
   "metadata": {},
   "outputs": [],
   "source": [
    "top100 = []\n",
    "for i in df.Artist.value_counts().index.tolist()[:100]:\n",
    "    top100.append(df[df.Artist == i])\n",
    "    "
   ]
  },
  {
   "cell_type": "code",
   "execution_count": 13,
   "metadata": {},
   "outputs": [],
   "source": [
    "df = pd.concat(top100) "
   ]
  },
  {
   "cell_type": "code",
   "execution_count": 14,
   "metadata": {
    "scrolled": true
   },
   "outputs": [
    {
     "data": {
      "text/plain": [
       "(63226, 15)"
      ]
     },
     "execution_count": 14,
     "metadata": {},
     "output_type": "execute_result"
    }
   ],
   "source": [
    "df.shape"
   ]
  },
  {
   "cell_type": "code",
   "execution_count": 15,
   "metadata": {},
   "outputs": [],
   "source": [
    "df.dropna(inplace = True)"
   ]
  },
  {
   "cell_type": "code",
   "execution_count": 16,
   "metadata": {},
   "outputs": [],
   "source": [
    "def std_dummied_train_test_split(df):\n",
    "    \n",
    "    df_dum = pd.get_dummies(df, columns =['Artist', 'Art_period', 'Medium_Class', 'Signed', 'Sale_Month', 'Sale_Day', 'Venue_city'])\n",
    "    \n",
    "    \n",
    "    df_train = df_dum[df_dum.Sale_Year <2018]\n",
    "    df_test = df_dum[df_dum.Sale_Year > 2017]\n",
    "    \n",
    "    y_train = df_train.pop('Target')\n",
    "    X_train = df_train\n",
    "    y_test = df_test.pop('Target')\n",
    "    X_test = df_test\n",
    "    \n",
    "    \n",
    "    scaler = StandardScaler()\n",
    "    Xs_train =pd.DataFrame(scaler.fit_transform(X_train), columns=X_train.columns)\n",
    "    Xs_test = pd.DataFrame(scaler.transform(X_test), columns=X_test.columns)\n",
    "    \n",
    "    return Xs_train, Xs_test, y_train, y_test \n",
    "    "
   ]
  },
  {
   "cell_type": "code",
   "execution_count": 17,
   "metadata": {},
   "outputs": [],
   "source": [
    "Xs_train, Xs_test, y_train, y_test = std_dummied_train_test_split(df)"
   ]
  },
  {
   "cell_type": "code",
   "execution_count": 18,
   "metadata": {},
   "outputs": [
    {
     "name": "stdout",
     "output_type": "stream",
     "text": [
      "(52384, 626)\n",
      "(10756, 626)\n",
      "(52384,)\n",
      "(10756,)\n"
     ]
    }
   ],
   "source": [
    "list1 = [Xs_train, Xs_test, y_train, y_test]\n",
    "for i in list1:\n",
    "    print(i.shape)"
   ]
  },
  {
   "cell_type": "code",
   "execution_count": 19,
   "metadata": {},
   "outputs": [
    {
     "data": {
      "text/html": [
       "<div>\n",
       "<style scoped>\n",
       "    .dataframe tbody tr th:only-of-type {\n",
       "        vertical-align: middle;\n",
       "    }\n",
       "\n",
       "    .dataframe tbody tr th {\n",
       "        vertical-align: top;\n",
       "    }\n",
       "\n",
       "    .dataframe thead th {\n",
       "        text-align: right;\n",
       "    }\n",
       "</style>\n",
       "<table border=\"1\" class=\"dataframe\">\n",
       "  <thead>\n",
       "    <tr style=\"text-align: right;\">\n",
       "      <th></th>\n",
       "      <th>Total_prints</th>\n",
       "      <th>Area_dimension</th>\n",
       "      <th>Sale_Year</th>\n",
       "      <th>performance_index</th>\n",
       "      <th>hist_1</th>\n",
       "      <th>diff_1</th>\n",
       "      <th>diff_2</th>\n",
       "      <th>Artist_Alberto Giacometti</th>\n",
       "      <th>Artist_Albrecht Dürer</th>\n",
       "      <th>Artist_Alex Katz</th>\n",
       "      <th>...</th>\n",
       "      <th>Venue_city_Wellington</th>\n",
       "      <th>Venue_city_Westport</th>\n",
       "      <th>Venue_city_Wien</th>\n",
       "      <th>Venue_city_Wilson</th>\n",
       "      <th>Venue_city_Windsor</th>\n",
       "      <th>Venue_city_Woking</th>\n",
       "      <th>Venue_city_Woollahra</th>\n",
       "      <th>Venue_city_Yafo</th>\n",
       "      <th>Venue_city_Zofingen</th>\n",
       "      <th>Venue_city_Zürich</th>\n",
       "    </tr>\n",
       "  </thead>\n",
       "  <tbody>\n",
       "    <tr>\n",
       "      <th>0</th>\n",
       "      <td>0.220060</td>\n",
       "      <td>-0.012112</td>\n",
       "      <td>-0.251424</td>\n",
       "      <td>0.830042</td>\n",
       "      <td>-0.090467</td>\n",
       "      <td>-0.781717</td>\n",
       "      <td>-0.408944</td>\n",
       "      <td>-0.06509</td>\n",
       "      <td>-0.154159</td>\n",
       "      <td>-0.098957</td>\n",
       "      <td>...</td>\n",
       "      <td>0.0</td>\n",
       "      <td>0.0</td>\n",
       "      <td>-0.00977</td>\n",
       "      <td>-0.004369</td>\n",
       "      <td>-0.006179</td>\n",
       "      <td>-0.006179</td>\n",
       "      <td>-0.038368</td>\n",
       "      <td>-0.025857</td>\n",
       "      <td>0.0</td>\n",
       "      <td>-0.137139</td>\n",
       "    </tr>\n",
       "    <tr>\n",
       "      <th>1</th>\n",
       "      <td>0.347054</td>\n",
       "      <td>-0.016919</td>\n",
       "      <td>-0.251424</td>\n",
       "      <td>0.830042</td>\n",
       "      <td>-0.090467</td>\n",
       "      <td>-0.781717</td>\n",
       "      <td>-0.408944</td>\n",
       "      <td>-0.06509</td>\n",
       "      <td>-0.154159</td>\n",
       "      <td>-0.098957</td>\n",
       "      <td>...</td>\n",
       "      <td>0.0</td>\n",
       "      <td>0.0</td>\n",
       "      <td>-0.00977</td>\n",
       "      <td>-0.004369</td>\n",
       "      <td>-0.006179</td>\n",
       "      <td>-0.006179</td>\n",
       "      <td>-0.038368</td>\n",
       "      <td>-0.025857</td>\n",
       "      <td>0.0</td>\n",
       "      <td>7.291890</td>\n",
       "    </tr>\n",
       "    <tr>\n",
       "      <th>2</th>\n",
       "      <td>0.156563</td>\n",
       "      <td>-0.008751</td>\n",
       "      <td>-0.251424</td>\n",
       "      <td>0.830042</td>\n",
       "      <td>-0.090467</td>\n",
       "      <td>-0.781717</td>\n",
       "      <td>-0.408944</td>\n",
       "      <td>-0.06509</td>\n",
       "      <td>-0.154159</td>\n",
       "      <td>-0.098957</td>\n",
       "      <td>...</td>\n",
       "      <td>0.0</td>\n",
       "      <td>0.0</td>\n",
       "      <td>-0.00977</td>\n",
       "      <td>-0.004369</td>\n",
       "      <td>-0.006179</td>\n",
       "      <td>-0.006179</td>\n",
       "      <td>-0.038368</td>\n",
       "      <td>-0.025857</td>\n",
       "      <td>0.0</td>\n",
       "      <td>-0.137139</td>\n",
       "    </tr>\n",
       "    <tr>\n",
       "      <th>3</th>\n",
       "      <td>-0.285376</td>\n",
       "      <td>-0.023889</td>\n",
       "      <td>-0.251424</td>\n",
       "      <td>0.830042</td>\n",
       "      <td>-0.090467</td>\n",
       "      <td>-0.781717</td>\n",
       "      <td>-0.408944</td>\n",
       "      <td>-0.06509</td>\n",
       "      <td>-0.154159</td>\n",
       "      <td>-0.098957</td>\n",
       "      <td>...</td>\n",
       "      <td>0.0</td>\n",
       "      <td>0.0</td>\n",
       "      <td>-0.00977</td>\n",
       "      <td>-0.004369</td>\n",
       "      <td>-0.006179</td>\n",
       "      <td>-0.006179</td>\n",
       "      <td>-0.038368</td>\n",
       "      <td>-0.025857</td>\n",
       "      <td>0.0</td>\n",
       "      <td>-0.137139</td>\n",
       "    </tr>\n",
       "    <tr>\n",
       "      <th>4</th>\n",
       "      <td>-0.160922</td>\n",
       "      <td>-0.022928</td>\n",
       "      <td>-0.251424</td>\n",
       "      <td>0.830042</td>\n",
       "      <td>-0.090467</td>\n",
       "      <td>-0.781717</td>\n",
       "      <td>-0.408944</td>\n",
       "      <td>-0.06509</td>\n",
       "      <td>-0.154159</td>\n",
       "      <td>-0.098957</td>\n",
       "      <td>...</td>\n",
       "      <td>0.0</td>\n",
       "      <td>0.0</td>\n",
       "      <td>-0.00977</td>\n",
       "      <td>-0.004369</td>\n",
       "      <td>-0.006179</td>\n",
       "      <td>-0.006179</td>\n",
       "      <td>-0.038368</td>\n",
       "      <td>-0.025857</td>\n",
       "      <td>0.0</td>\n",
       "      <td>-0.137139</td>\n",
       "    </tr>\n",
       "  </tbody>\n",
       "</table>\n",
       "<p>5 rows × 626 columns</p>\n",
       "</div>"
      ],
      "text/plain": [
       "   Total_prints  Area_dimension  Sale_Year  performance_index    hist_1  \\\n",
       "0      0.220060       -0.012112  -0.251424           0.830042 -0.090467   \n",
       "1      0.347054       -0.016919  -0.251424           0.830042 -0.090467   \n",
       "2      0.156563       -0.008751  -0.251424           0.830042 -0.090467   \n",
       "3     -0.285376       -0.023889  -0.251424           0.830042 -0.090467   \n",
       "4     -0.160922       -0.022928  -0.251424           0.830042 -0.090467   \n",
       "\n",
       "     diff_1    diff_2  Artist_Alberto Giacometti  Artist_Albrecht Dürer  \\\n",
       "0 -0.781717 -0.408944                   -0.06509              -0.154159   \n",
       "1 -0.781717 -0.408944                   -0.06509              -0.154159   \n",
       "2 -0.781717 -0.408944                   -0.06509              -0.154159   \n",
       "3 -0.781717 -0.408944                   -0.06509              -0.154159   \n",
       "4 -0.781717 -0.408944                   -0.06509              -0.154159   \n",
       "\n",
       "   Artist_Alex Katz  ...  Venue_city_Wellington  Venue_city_Westport  \\\n",
       "0         -0.098957  ...                    0.0                  0.0   \n",
       "1         -0.098957  ...                    0.0                  0.0   \n",
       "2         -0.098957  ...                    0.0                  0.0   \n",
       "3         -0.098957  ...                    0.0                  0.0   \n",
       "4         -0.098957  ...                    0.0                  0.0   \n",
       "\n",
       "   Venue_city_Wien  Venue_city_Wilson  Venue_city_Windsor  Venue_city_Woking  \\\n",
       "0         -0.00977          -0.004369           -0.006179          -0.006179   \n",
       "1         -0.00977          -0.004369           -0.006179          -0.006179   \n",
       "2         -0.00977          -0.004369           -0.006179          -0.006179   \n",
       "3         -0.00977          -0.004369           -0.006179          -0.006179   \n",
       "4         -0.00977          -0.004369           -0.006179          -0.006179   \n",
       "\n",
       "   Venue_city_Woollahra  Venue_city_Yafo  Venue_city_Zofingen  \\\n",
       "0             -0.038368        -0.025857                  0.0   \n",
       "1             -0.038368        -0.025857                  0.0   \n",
       "2             -0.038368        -0.025857                  0.0   \n",
       "3             -0.038368        -0.025857                  0.0   \n",
       "4             -0.038368        -0.025857                  0.0   \n",
       "\n",
       "   Venue_city_Zürich  \n",
       "0          -0.137139  \n",
       "1           7.291890  \n",
       "2          -0.137139  \n",
       "3          -0.137139  \n",
       "4          -0.137139  \n",
       "\n",
       "[5 rows x 626 columns]"
      ]
     },
     "execution_count": 19,
     "metadata": {},
     "output_type": "execute_result"
    }
   ],
   "source": [
    "Xs_train.head()"
   ]
  },
  {
   "cell_type": "code",
   "execution_count": 20,
   "metadata": {},
   "outputs": [
    {
     "data": {
      "text/plain": [
       "5285    0\n",
       "5286    1\n",
       "5287    1\n",
       "5288    1\n",
       "5289    1\n",
       "Name: Target, dtype: int64"
      ]
     },
     "execution_count": 20,
     "metadata": {},
     "output_type": "execute_result"
    }
   ],
   "source": [
    "y_train[:5]"
   ]
  },
  {
   "cell_type": "markdown",
   "metadata": {},
   "source": [
    "<a id=\"baseline\"></a>\n",
    "#### Baseline Model:\n",
    "---\n",
    "\n",
    "- In order to be able to compare my models later on, I will first compute the baseline score:"
   ]
  },
  {
   "cell_type": "code",
   "execution_count": 21,
   "metadata": {
    "scrolled": true
   },
   "outputs": [
    {
     "data": {
      "text/plain": [
       "1    0.710532\n",
       "0    0.289468\n",
       "Name: Target, dtype: float64"
      ]
     },
     "execution_count": 21,
     "metadata": {},
     "output_type": "execute_result"
    }
   ],
   "source": [
    "df.Target.value_counts(normalize = True)"
   ]
  },
  {
   "cell_type": "code",
   "execution_count": 22,
   "metadata": {},
   "outputs": [],
   "source": [
    "baseline = df.Target.value_counts(normalize = True)[1]"
   ]
  },
  {
   "cell_type": "code",
   "execution_count": 23,
   "metadata": {},
   "outputs": [
    {
     "name": "stdout",
     "output_type": "stream",
     "text": [
      "Baseline Score:  0.7105321507760533\n"
     ]
    }
   ],
   "source": [
    "print('Baseline Score: ', baseline)"
   ]
  },
  {
   "cell_type": "markdown",
   "metadata": {},
   "source": [
    "<a id=\"pca\"></a>\n",
    "#### Principal Component Analysis:\n",
    "----\n",
    "\n",
    "- Since my data frame would have been 63,226 rows by 961 after dummifying.\n",
    "- I will be conducting prinicipal component analysis to reduce the dimensionality of my dataset and accepting the first set of principal components which explains at least 75% of the variance."
   ]
  },
  {
   "cell_type": "code",
   "execution_count": 137,
   "metadata": {
    "scrolled": true
   },
   "outputs": [
    {
     "data": {
      "image/png": "[encoded data removed]",
      "text/plain": [
       "<Figure size 1440x432 with 3 Axes>"
      ]
     },
     "metadata": {
      "image/png": {
       "height": 386,
       "width": 1168
      },
      "needs_background": "light"
     },
     "output_type": "display_data"
    }
   ],
   "source": [
    "fig, ax = plt.subplots(1,3, figsize=(20, 6))\n",
    "pca = PCA(random_state=1)\n",
    "pca.fit(Xs_train)\n",
    "skplt.decomposition.plot_pca_component_variance(pca, ax = ax[0])\n",
    "skplt.decomposition.plot_pca_component_variance(pca, target_explained_variance=0.8, ax = ax[1])\n",
    "skplt.decomposition.plot_pca_component_variance(pca, target_explained_variance=0.9, ax = ax[2])\n",
    "\n",
    "plt.show()"
   ]
  },
  {
   "cell_type": "markdown",
   "metadata": {},
   "source": [
    "- From the above PCA plots, it can be seen almost 100% of the variance can be explained by the first 500 components therefore I will do PCA with n_components."
   ]
  },
  {
   "cell_type": "code",
   "execution_count": 24,
   "metadata": {},
   "outputs": [],
   "source": [
    "pca_model = PCA(n_components= 500)\n",
    "pca_model.fit(Xs_train)\n",
    "pca_train = pca_model.transform(Xs_train)\n",
    "pca_test = pca_model.transform(Xs_test)"
   ]
  },
  {
   "cell_type": "code",
   "execution_count": 18,
   "metadata": {},
   "outputs": [
    {
     "data": {
      "text/plain": [
       "<bound method BaseEstimator.get_params of PCA(copy=True, iterated_power='auto', n_components=500, random_state=None,\n",
       "  svd_solver='auto', tol=0.0, whiten=False)>"
      ]
     },
     "execution_count": 18,
     "metadata": {},
     "output_type": "execute_result"
    }
   ],
   "source": [
    "pca_model.get_params"
   ]
  },
  {
   "cell_type": "markdown",
   "metadata": {},
   "source": [
    "<a id=\"logistic\"></a>\n",
    "#### Logistic Regression Model:\n",
    "---\n",
    "\n",
    "- Logistic regression is used when the dependent variable is dichotomous (binary).\n"
   ]
  },
  {
   "cell_type": "code",
   "execution_count": 184,
   "metadata": {},
   "outputs": [],
   "source": [
    "lr = LogisticRegression(solver='lbfgs', max_iter=1000)"
   ]
  },
  {
   "cell_type": "code",
   "execution_count": 187,
   "metadata": {},
   "outputs": [],
   "source": [
    "gs_params = {'penalty': ['l2'],\n",
    "             'solver': ['liblinear'],\n",
    "             'C': np.logspace(-6, -1, 10)}\n",
    "\n",
    "lr_gridsearch = GridSearchCV(lr,\n",
    "                             gs_params,\n",
    "                             n_jobs=-1, \n",
    "                             cv=3, \n",
    "                             verbose=1)"
   ]
  },
  {
   "cell_type": "code",
   "execution_count": 188,
   "metadata": {},
   "outputs": [
    {
     "name": "stdout",
     "output_type": "stream",
     "text": [
      "Fitting 3 folds for each of 10 candidates, totalling 30 fits\n"
     ]
    },
    {
     "name": "stderr",
     "output_type": "stream",
     "text": [
      "[Parallel(n_jobs=-1)]: Using backend LokyBackend with 4 concurrent workers.\n",
      "[Parallel(n_jobs=-1)]: Done  30 out of  30 | elapsed:  1.1min finished\n"
     ]
    }
   ],
   "source": [
    "lr_gridsearch.fit(pca_train, y_train)\n",
    "best_lr = lr_gridsearch.best_estimator_"
   ]
  },
  {
   "cell_type": "code",
   "execution_count": 142,
   "metadata": {},
   "outputs": [
    {
     "data": {
      "text/plain": [
       "['best_lr.joblib']"
      ]
     },
     "execution_count": 142,
     "metadata": {},
     "output_type": "execute_result"
    }
   ],
   "source": [
    "dump(best_lr, 'best_lr.joblib')"
   ]
  },
  {
   "cell_type": "code",
   "execution_count": 190,
   "metadata": {
    "scrolled": true
   },
   "outputs": [
    {
     "name": "stdout",
     "output_type": "stream",
     "text": [
      "Best Params:  {'C': 0.02782559402207126, 'penalty': 'l2', 'solver': 'liblinear'}\n",
      "Best Train Score:  0.4790561934917789\n",
      "Best Test Score:  0.7122993654348637\n",
      "Cross validated score:  0.44613099666328254\n"
     ]
    }
   ],
   "source": [
    "print('Best Params: ',lr_gridsearch.best_params_)\n",
    "print('Best Train Score: ',lr_gridsearch.best_score_)\n",
    "print('Best Test Score: ',lr_gridsearch.score(pca_test, y_test))\n",
    "print('Cross validated score: ', cross_val_score(best_lr, pca_train, y_train, cv=5).mean())"
   ]
  },
  {
   "cell_type": "code",
   "execution_count": 147,
   "metadata": {
    "scrolled": true
   },
   "outputs": [
    {
     "name": "stdout",
     "output_type": "stream",
     "text": [
      "Baseline:  0.7109847644990656\n"
     ]
    }
   ],
   "source": [
    "print('Baseline: ', baseline)"
   ]
  },
  {
   "cell_type": "code",
   "execution_count": 191,
   "metadata": {
    "scrolled": true
   },
   "outputs": [
    {
     "data": {
      "text/html": [
       "<div>\n",
       "<style scoped>\n",
       "    .dataframe tbody tr th:only-of-type {\n",
       "        vertical-align: middle;\n",
       "    }\n",
       "\n",
       "    .dataframe tbody tr th {\n",
       "        vertical-align: top;\n",
       "    }\n",
       "\n",
       "    .dataframe thead th {\n",
       "        text-align: right;\n",
       "    }\n",
       "</style>\n",
       "<table border=\"1\" class=\"dataframe\">\n",
       "  <thead>\n",
       "    <tr style=\"text-align: right;\">\n",
       "      <th></th>\n",
       "      <th>0</th>\n",
       "      <th>1</th>\n",
       "    </tr>\n",
       "  </thead>\n",
       "  <tbody>\n",
       "    <tr>\n",
       "      <th>0</th>\n",
       "      <td>396</td>\n",
       "      <td>2751</td>\n",
       "    </tr>\n",
       "    <tr>\n",
       "      <th>1</th>\n",
       "      <td>332</td>\n",
       "      <td>7237</td>\n",
       "    </tr>\n",
       "  </tbody>\n",
       "</table>\n",
       "</div>"
      ],
      "text/plain": [
       "     0     1\n",
       "0  396  2751\n",
       "1  332  7237"
      ]
     },
     "execution_count": 191,
     "metadata": {},
     "output_type": "execute_result"
    }
   ],
   "source": [
    "lr_predictions = best_lr.predict(pca_test)\n",
    "confusion = confusion_matrix(y_test, lr_predictions)\n",
    "pd.DataFrame(confusion, columns=sorted(y_train.unique()),\n",
    "             index=sorted(y_train.unique()))"
   ]
  },
  {
   "cell_type": "code",
   "execution_count": 229,
   "metadata": {},
   "outputs": [
    {
     "data": {
      "text/plain": [
       "<matplotlib.axes._subplots.AxesSubplot at 0x1a16ec4978>"
      ]
     },
     "execution_count": 229,
     "metadata": {},
     "output_type": "execute_result"
    },
    {
     "data": {
      "image/png": "[encoded data removed]",
      "text/plain": [
       "<Figure size 432x288 with 2 Axes>"
      ]
     },
     "metadata": {
      "image/png": {
       "height": 250,
       "width": 359
      },
      "needs_background": "light"
     },
     "output_type": "display_data"
    }
   ],
   "source": [
    "sns.heatmap(pd.DataFrame(confusion, columns=sorted(y_train.unique()),\n",
    "             index=sorted(y_train.unique())), annot=True,annot_kws={\"size\": 16})"
   ]
  },
  {
   "cell_type": "code",
   "execution_count": 192,
   "metadata": {},
   "outputs": [
    {
     "name": "stdout",
     "output_type": "stream",
     "text": [
      "              precision    recall  f1-score   support\n",
      "\n",
      "           0       0.54      0.13      0.20      3147\n",
      "           1       0.72      0.96      0.82      7569\n",
      "\n",
      "   micro avg       0.71      0.71      0.71     10716\n",
      "   macro avg       0.63      0.54      0.51     10716\n",
      "weighted avg       0.67      0.71      0.64     10716\n",
      "\n"
     ]
    }
   ],
   "source": [
    "print(classification_report(y_test, lr_predictions))"
   ]
  },
  {
   "cell_type": "code",
   "execution_count": 193,
   "metadata": {},
   "outputs": [
    {
     "data": {
      "text/plain": [
       "array([[-5.43220156e-02,  5.63234042e-02,  5.67462062e-02,\n",
       "         7.92143101e-02,  1.25893062e-02, -9.94911381e-03,\n",
       "         6.02506023e-02, -4.16446128e-02, -9.80426214e-03,\n",
       "         9.82750662e-02,  3.14564647e-02, -6.43891913e-02,\n",
       "         9.07616792e-02, -5.70446944e-02,  7.44285229e-02,\n",
       "        -9.15438213e-02,  6.38022179e-02,  3.74437178e-03,\n",
       "         5.11698398e-02, -4.33825809e-02, -1.29762965e-01,\n",
       "        -2.87212211e-02,  6.39173979e-02, -1.05761334e-01,\n",
       "        -2.74558944e-02, -4.08181645e-02, -8.11588075e-02,\n",
       "         9.66909338e-02, -1.44887887e-02,  1.07799932e-01,\n",
       "         7.46444920e-02,  8.21021358e-02,  4.28402194e-02,\n",
       "         8.76442922e-02,  3.07472691e-02,  7.27884315e-02,\n",
       "         3.06185503e-03,  2.10605357e-02,  1.71344036e-02,\n",
       "         4.15354714e-02,  1.32443853e-02, -5.17293489e-02,\n",
       "        -2.78636062e-03,  3.20219901e-02, -8.61694619e-02,\n",
       "         8.31344427e-03,  6.42848546e-02,  7.56237090e-03,\n",
       "         3.29883734e-01,  1.70475937e-02, -8.99660943e-02,\n",
       "        -7.40630216e-02,  6.51965697e-02, -1.00477397e-01,\n",
       "         1.81134996e-02,  2.74317130e-02,  1.01047536e-01,\n",
       "        -1.73815521e-02, -5.08194215e-02, -1.81487735e-01,\n",
       "        -1.44591008e-02,  4.66906281e-02,  5.82299363e-02,\n",
       "        -3.17660193e-02, -2.76455041e-02, -1.25688826e-02,\n",
       "        -1.25858091e-01,  5.26075225e-02, -1.18462468e-01,\n",
       "        -5.47407146e-02,  3.63487106e-02,  4.52622404e-02,\n",
       "         1.16821574e-01, -4.11726272e-02,  9.79612272e-03,\n",
       "        -6.59167738e-02, -9.34366821e-02,  2.02617469e-01,\n",
       "        -1.04202995e-01,  2.18399093e-01,  7.17716348e-02,\n",
       "         3.22445298e-02, -1.25403636e-01,  1.83204530e-02,\n",
       "        -3.68805753e-02,  1.63926581e-01, -3.73690830e-02,\n",
       "        -6.87324284e-02,  3.35152575e-02, -1.21052093e-01,\n",
       "         9.94768686e-02, -8.14067842e-02, -4.88929906e-02,\n",
       "        -1.53209598e-02, -1.70171027e-01,  1.81887955e-01,\n",
       "         1.76450919e-01, -1.29751885e-01,  1.85652635e-01,\n",
       "         1.43951414e-01,  4.31445947e-02, -1.60441337e-01,\n",
       "         3.42362700e-02,  1.26013382e-02, -3.42281367e-02,\n",
       "         1.59308965e-02,  5.46722576e-02, -1.62595949e-01,\n",
       "         3.89745282e-02,  5.99701706e-02,  1.15351934e-02,\n",
       "        -5.10258133e-02,  4.49506069e-02, -4.89994075e-02,\n",
       "        -4.71491672e-03,  3.55739250e-03,  7.31347463e-02,\n",
       "        -8.21403694e-02,  3.22001181e-02, -7.59919164e-02,\n",
       "        -1.63428854e-02,  1.02337522e-01, -1.08290068e-01,\n",
       "         3.58163275e-02, -5.61862829e-02,  1.09720529e-01,\n",
       "        -6.72764114e-02, -1.27912236e-01, -1.66822088e-02,\n",
       "        -6.42956351e-02, -1.51121757e-01,  1.17968110e-03,\n",
       "         3.55749143e-02,  5.16633294e-02,  2.69663215e-01,\n",
       "         1.02017035e-01, -3.79273941e-02, -1.88472591e-02,\n",
       "        -3.05684497e-02, -3.91926884e-02,  4.79433982e-02,\n",
       "         8.02771332e-03,  1.46693735e-01,  2.47488583e-01,\n",
       "         3.66139429e-02,  1.57689758e-01,  1.40570609e-01,\n",
       "         6.77983543e-02, -1.75706989e-01,  3.59052240e-03,\n",
       "        -5.61615181e-02,  1.41394903e-01, -9.57891821e-02,\n",
       "        -1.74484186e-01,  1.43838412e-02, -1.40815863e-01,\n",
       "         2.12102132e-01,  1.85661691e-01, -1.85746106e-01,\n",
       "         2.77307850e-01, -4.93657770e-02, -4.77403263e-02,\n",
       "        -4.37964903e-02,  2.03814069e-01,  1.00878331e-01,\n",
       "        -4.14175719e-03, -1.54334539e-03, -3.81396331e-02,\n",
       "        -2.11814027e-01,  2.51386606e-02, -6.65677977e-03,\n",
       "        -2.02372223e-01, -2.78119167e-02, -9.50564968e-02,\n",
       "        -2.66571591e-02,  1.08350690e-01, -5.01138350e-03,\n",
       "        -1.02265209e-02, -9.91412425e-03, -6.42890870e-02,\n",
       "         9.44066164e-02, -2.66473242e-01, -1.68021729e-01,\n",
       "        -2.77550086e-01, -4.34125284e-01,  1.85366845e-01,\n",
       "        -1.81357970e-01, -1.50986890e-01, -9.92734272e-02,\n",
       "         1.60660861e-01,  2.76597946e-01,  2.50206946e-01,\n",
       "        -6.81417301e-02, -1.96914519e-01,  2.78817268e-01,\n",
       "         1.47186027e-01,  6.86430071e-02, -1.67660729e-01,\n",
       "        -1.63407319e-01,  6.56333251e-02,  8.75392932e-02,\n",
       "        -1.11609651e-01,  8.69078566e-03,  2.79151152e-01,\n",
       "         1.16053188e-01,  8.34643635e-02, -1.20213295e-01,\n",
       "         1.72216522e-02,  3.02233215e-02, -5.45090096e-02,\n",
       "        -5.54022385e-02,  1.68258120e-01, -1.53194613e-01,\n",
       "         2.03718038e-01, -3.83875188e-02,  1.54976946e-01,\n",
       "        -5.23406562e-02,  1.15370827e-02, -2.13475636e-04,\n",
       "        -1.67181253e-02,  1.28887909e-01,  2.55725658e-02,\n",
       "         2.05687605e-01,  1.65507074e-01, -1.85111260e-01,\n",
       "        -8.75220658e-02,  1.10708537e-01, -1.55515882e-02,\n",
       "        -1.46521282e-01,  4.89921067e-02, -8.37695153e-02,\n",
       "         3.77268654e-02,  6.51992918e-02,  8.35139525e-02,\n",
       "        -1.23258774e-01, -1.33844742e-01,  1.66263435e-01,\n",
       "        -7.92179253e-02, -1.36983879e-02,  1.80295405e-02,\n",
       "        -9.07596749e-02,  3.67881753e-02,  3.19651127e-02,\n",
       "        -1.51932994e-02, -8.74221141e-04,  4.47330280e-02,\n",
       "         7.42738800e-02, -1.94774887e-01, -5.07490888e-02,\n",
       "         1.03731066e-01,  1.35209968e-01, -6.34774978e-02,\n",
       "         1.17109593e-02, -7.15220333e-02,  1.21898727e-01,\n",
       "        -8.90938032e-02,  1.06872594e-02, -5.67715564e-02,\n",
       "         3.60164422e-02, -1.06448065e-03, -2.41048960e-03,\n",
       "         2.80913651e-02,  1.11075591e-01,  8.50670946e-03,\n",
       "         1.76159163e-01,  1.07692435e-01,  9.82089043e-02,\n",
       "        -1.14684532e-01,  7.03682536e-02, -1.40246493e-01,\n",
       "        -1.19701298e-01, -8.11307048e-02, -2.24611293e-03,\n",
       "         3.27645426e-02,  1.20805438e-02, -4.32931576e-02,\n",
       "        -1.44682178e-02, -8.54065060e-02,  6.84096453e-02,\n",
       "        -7.21134159e-03, -4.20436691e-03,  7.05593207e-02,\n",
       "        -1.60713941e-01, -4.18875242e-03,  2.58787778e-02,\n",
       "        -3.02846467e-02, -1.09280779e-02, -1.10571856e-01,\n",
       "        -2.02712431e-02, -1.96947983e-02, -6.69508690e-02,\n",
       "        -3.14611905e-03, -5.07186476e-02,  1.30839699e-01,\n",
       "         4.24980349e-02, -3.73706459e-02, -6.06948784e-03,\n",
       "         7.85050453e-02, -9.50959776e-03,  1.58174496e-02,\n",
       "         1.48119456e-02, -3.91285099e-02, -4.19368692e-02,\n",
       "         6.16853914e-03, -3.70545280e-02,  7.90510588e-04,\n",
       "        -2.67618643e-02,  5.66290709e-02, -9.33822099e-02,\n",
       "        -1.61963174e-01, -1.49419705e-01,  3.18349712e-02,\n",
       "        -3.92375429e-02,  7.32428817e-02,  3.19962779e-02,\n",
       "        -1.69033213e-01,  6.11507592e-02,  7.13166494e-02,\n",
       "         1.43864280e-01,  7.58318449e-02, -6.28038324e-02,\n",
       "         2.70879770e-01,  9.43095590e-02, -1.89126396e-01,\n",
       "         6.98661690e-02, -2.70826946e-02, -7.53920193e-02,\n",
       "        -2.00856469e-01, -8.32743120e-02,  1.29208352e-01,\n",
       "         1.01617610e-01, -1.53940341e-02, -2.15031421e-01,\n",
       "         5.69335398e-02,  9.03325572e-03, -1.93440235e-01,\n",
       "         1.92879221e-01,  5.62768919e-02, -3.15162422e-02,\n",
       "        -1.06729375e-01,  8.15166617e-02, -5.58278119e-02,\n",
       "         6.51653353e-02, -5.94692364e-02,  7.05703524e-02,\n",
       "        -7.44607421e-02,  1.02470356e-01,  4.76891467e-02,\n",
       "         4.92912879e-02,  6.45673262e-02,  2.65859295e-02,\n",
       "         3.02263634e-03,  1.43888129e-01, -1.86135121e-02,\n",
       "        -2.15190148e-02, -1.38518436e-01, -1.71069540e-01,\n",
       "        -7.54103531e-02,  1.60432177e-01, -6.39253978e-02,\n",
       "        -4.06000929e-02,  1.02373287e-01,  1.91351992e-02,\n",
       "        -1.26369851e-01,  1.06431170e-01, -4.28129177e-02,\n",
       "         3.11831473e-02,  1.19410692e-01,  1.64117394e-01,\n",
       "        -6.62918290e-02,  7.12830465e-02, -1.08928932e-01,\n",
       "        -1.36176435e-01,  8.35827608e-02,  5.72332099e-02,\n",
       "        -1.30164531e-01,  4.95336128e-02,  1.18491389e-02,\n",
       "         1.51662243e-01,  1.45598550e-02, -1.23541094e-01,\n",
       "        -1.30334868e-01,  5.16947890e-03,  2.73956082e-02,\n",
       "        -8.81444788e-02, -1.08916251e-01,  2.01873384e-03,\n",
       "        -8.03406608e-03, -4.23258312e-03,  1.01847490e-01,\n",
       "        -1.03980805e-01,  1.78048077e-01,  3.49877142e-02,\n",
       "        -7.00452182e-02,  6.80703986e-02,  6.77389479e-02,\n",
       "         1.92664990e-02,  1.04072346e-01,  3.62056614e-02,\n",
       "        -1.05448657e-01,  1.24390580e-01, -3.33477714e-02,\n",
       "        -2.94080799e-02, -3.16673499e-02, -5.41208857e-02,\n",
       "         3.29991106e-03,  1.01123162e-01, -1.77523360e-01,\n",
       "         3.76167823e-02, -1.57258869e-01, -1.91051983e-02,\n",
       "        -1.23563507e-01,  1.86331021e-01,  2.49876963e-01,\n",
       "        -1.23986079e-01,  1.48153239e-02,  6.95925210e-02,\n",
       "         8.05462254e-02, -1.24056657e-02, -4.54261464e-02,\n",
       "        -4.90321692e-02,  8.29448607e-02,  1.09357590e-01,\n",
       "         2.01099394e-02,  9.67987028e-02,  7.74838278e-02,\n",
       "        -5.99408107e-02,  1.90303511e-01,  1.57338408e-03,\n",
       "        -2.32811688e-02, -1.46290471e-01,  2.20807204e-01,\n",
       "        -1.01350112e-01,  1.11242256e-01, -3.97430099e-02,\n",
       "        -1.06871917e-01, -2.01390678e-01, -2.00704043e-01,\n",
       "        -1.95554477e-02,  1.58344356e-02,  6.52915416e-02,\n",
       "        -1.00481283e-01,  4.67622036e-02, -1.06564240e-01,\n",
       "         7.37920165e-02, -9.11174045e-02, -5.17546903e-02,\n",
       "         2.65086153e-02, -2.70979719e-03, -5.15048363e-02,\n",
       "        -3.36440341e-02,  9.36906147e-02,  4.98565963e-02,\n",
       "        -5.82243869e-02, -1.20329883e-03,  1.62700877e-02,\n",
       "         2.23722261e-02,  5.57843071e-02,  2.29657808e-01,\n",
       "         1.90140895e-02, -1.62283544e-01, -6.55768874e-02,\n",
       "        -2.14404524e-01,  1.19741286e-01, -7.11154361e-02,\n",
       "        -9.75288699e-03,  4.64597678e-02, -4.37649178e-02,\n",
       "        -4.68982131e-02, -4.00294903e-02,  1.77233728e-02,\n",
       "        -1.03956315e-02, -1.31087771e-01, -4.91812022e-02,\n",
       "        -5.18463099e-02,  2.61104750e-03,  1.02379803e-02,\n",
       "        -8.60471132e-02,  1.09510158e-01, -1.45514603e-01,\n",
       "        -2.19007639e-02,  1.25880803e-01,  5.55709385e-02,\n",
       "        -5.45656366e-02, -1.05106436e-01, -1.13929707e-01,\n",
       "        -1.32205263e-01, -1.58872750e-03, -4.11857900e-02,\n",
       "        -1.22451098e-01, -8.80074211e-02,  6.72188831e-03,\n",
       "        -1.00579948e-01, -1.00833589e-01, -2.19712841e-01,\n",
       "        -9.22198987e-02, -1.15409211e-01, -9.09111529e-02,\n",
       "        -6.70576944e-02,  4.59589531e-03]])"
      ]
     },
     "execution_count": 193,
     "metadata": {},
     "output_type": "execute_result"
    }
   ],
   "source": [
    "best_lr.coef_"
   ]
  },
  {
   "cell_type": "markdown",
   "metadata": {},
   "source": [
    "<a id=\"tree\"></a>\n",
    "#### Decision Tree Classifier:\n",
    "----"
   ]
  },
  {
   "cell_type": "code",
   "execution_count": 197,
   "metadata": {},
   "outputs": [],
   "source": [
    "tree = DecisionTreeClassifier(criterion='gini',\n",
    "                                    max_depth=None, \n",
    "                                    random_state=1)\n",
    "\n",
    "tree_params = {'max_depth':range(1,10)}\n",
    "\n",
    "treeclass_gs = GridSearchCV(tree,\n",
    "                             tree_params,\n",
    "                             n_jobs=-1, \n",
    "                             cv=3, \n",
    "                             verbose=1)\n"
   ]
  },
  {
   "cell_type": "code",
   "execution_count": 198,
   "metadata": {},
   "outputs": [
    {
     "name": "stdout",
     "output_type": "stream",
     "text": [
      "Fitting 3 folds for each of 9 candidates, totalling 27 fits\n"
     ]
    },
    {
     "name": "stderr",
     "output_type": "stream",
     "text": [
      "[Parallel(n_jobs=-1)]: Using backend LokyBackend with 4 concurrent workers.\n",
      "[Parallel(n_jobs=-1)]: Done  27 out of  27 | elapsed:  1.7min finished\n"
     ]
    },
    {
     "name": "stdout",
     "output_type": "stream",
     "text": [
      "Best Params:  {'max_depth': 1}\n",
      "Best Train Score:  0.7119368252393851\n",
      "Best Test Score:  0.7063269876819709\n",
      "Cross Validated Score:  0.6938538510031615\n"
     ]
    }
   ],
   "source": [
    "treeclass_gs.fit(pca_train, y_train)\n",
    "best_tree = treeclass_gs.best_estimator_\n",
    "dump(best_tree, 'treeclass.joblib')\n",
    "\n",
    "print('Best Params: ',treeclass_gs.best_params_)\n",
    "print('Best Train Score: ',treeclass_gs.score(pca_train, y_train))\n",
    "print('Best Test Score: ', treeclass_gs.score(pca_test, y_test))\n",
    "print('Cross Validated Score: ',cross_val_score(best_tree, pca_train, y_train, cv=5).mean())"
   ]
  },
  {
   "cell_type": "code",
   "execution_count": 199,
   "metadata": {},
   "outputs": [
    {
     "data": {
      "text/html": [
       "<div>\n",
       "<style scoped>\n",
       "    .dataframe tbody tr th:only-of-type {\n",
       "        vertical-align: middle;\n",
       "    }\n",
       "\n",
       "    .dataframe tbody tr th {\n",
       "        vertical-align: top;\n",
       "    }\n",
       "\n",
       "    .dataframe thead th {\n",
       "        text-align: right;\n",
       "    }\n",
       "</style>\n",
       "<table border=\"1\" class=\"dataframe\">\n",
       "  <thead>\n",
       "    <tr style=\"text-align: right;\">\n",
       "      <th></th>\n",
       "      <th>0</th>\n",
       "      <th>1</th>\n",
       "    </tr>\n",
       "  </thead>\n",
       "  <tbody>\n",
       "    <tr>\n",
       "      <th>0</th>\n",
       "      <td>0</td>\n",
       "      <td>3147</td>\n",
       "    </tr>\n",
       "    <tr>\n",
       "      <th>1</th>\n",
       "      <td>0</td>\n",
       "      <td>7569</td>\n",
       "    </tr>\n",
       "  </tbody>\n",
       "</table>\n",
       "</div>"
      ],
      "text/plain": [
       "   0     1\n",
       "0  0  3147\n",
       "1  0  7569"
      ]
     },
     "execution_count": 199,
     "metadata": {},
     "output_type": "execute_result"
    }
   ],
   "source": [
    "tree_predictions = best_tree.predict(pca_test)\n",
    "confusion = confusion_matrix(y_test, tree_predictions)\n",
    "pd.DataFrame(confusion, columns=sorted(y_train.unique()),\n",
    "             index=sorted(y_train.unique()))"
   ]
  },
  {
   "cell_type": "code",
   "execution_count": 200,
   "metadata": {},
   "outputs": [
    {
     "data": {
      "text/plain": [
       "'              precision    recall  f1-score   support\\n\\n           0       0.00      0.00      0.00      3147\\n           1       0.71      1.00      0.83      7569\\n\\n   micro avg       0.71      0.71      0.71     10716\\n   macro avg       0.35      0.50      0.41     10716\\nweighted avg       0.50      0.71      0.58     10716\\n'"
      ]
     },
     "execution_count": 200,
     "metadata": {},
     "output_type": "execute_result"
    }
   ],
   "source": [
    "print(classification_report(y_test, tree_predictions))"
   ]
  },
  {
   "cell_type": "code",
   "execution_count": 203,
   "metadata": {},
   "outputs": [
    {
     "data": {
      "image/png": "[encoded data removed]",
      "text/plain": [
       "<IPython.core.display.Image object>"
      ]
     },
     "execution_count": 203,
     "metadata": {},
     "output_type": "execute_result"
    }
   ],
   "source": [
    "dot_data = StringIO()\n",
    "export_graphviz(best_tree,\n",
    "                out_file=dot_data,\n",
    "                filled=True,\n",
    "                rounded=True,\n",
    "                special_characters=True,\n",
    "                feature_names=['component_{}'.format(i) for i in range(pca_train.shape[1])]\n",
    "                )\n",
    "\n",
    "graph = pydotplus.graph_from_dot_data(dot_data.getvalue())\n",
    "\n",
    "Image(graph.create_png())"
   ]
  },
  {
   "cell_type": "markdown",
   "metadata": {},
   "source": [
    "<a id=\"bag\"></a>\n",
    "#### Bagging Classifier:\n",
    "---"
   ]
  },
  {
   "cell_type": "code",
   "execution_count": 213,
   "metadata": {},
   "outputs": [],
   "source": [
    "bag = BaggingClassifier(base_estimator = DecisionTreeClassifier(), n_estimators= 300, verbose = 1, n_jobs = -1)"
   ]
  },
  {
   "cell_type": "code",
   "execution_count": 214,
   "metadata": {
    "scrolled": true
   },
   "outputs": [
    {
     "name": "stderr",
     "output_type": "stream",
     "text": [
      "[Parallel(n_jobs=4)]: Using backend LokyBackend with 4 concurrent workers.\n",
      "[Parallel(n_jobs=4)]: Done   2 out of   4 | elapsed: 55.5min remaining: 55.5min\n",
      "[Parallel(n_jobs=4)]: Done   4 out of   4 | elapsed: 55.7min finished\n",
      "[Parallel(n_jobs=4)]: Using backend LokyBackend with 4 concurrent workers.\n",
      "[Parallel(n_jobs=4)]: Done   2 out of   4 | elapsed:  1.4min remaining:  1.4min\n",
      "[Parallel(n_jobs=4)]: Done   4 out of   4 | elapsed:  1.4min finished\n",
      "[Parallel(n_jobs=4)]: Using backend LokyBackend with 4 concurrent workers.\n"
     ]
    },
    {
     "name": "stdout",
     "output_type": "stream",
     "text": [
      "Best Train Score:  0.9925800175485446\n"
     ]
    },
    {
     "name": "stderr",
     "output_type": "stream",
     "text": [
      "[Parallel(n_jobs=4)]: Done   2 out of   4 | elapsed:    7.2s remaining:    7.2s\n",
      "[Parallel(n_jobs=4)]: Done   4 out of   4 | elapsed:    9.4s finished\n",
      "[Parallel(n_jobs=4)]: Using backend LokyBackend with 4 concurrent workers.\n"
     ]
    },
    {
     "name": "stdout",
     "output_type": "stream",
     "text": [
      "Best Test Score:  0.7131392310563643\n"
     ]
    },
    {
     "name": "stderr",
     "output_type": "stream",
     "text": [
      "[Parallel(n_jobs=4)]: Done   2 out of   4 | elapsed: 47.8min remaining: 47.8min\n",
      "[Parallel(n_jobs=4)]: Done   4 out of   4 | elapsed: 48.0min finished\n",
      "[Parallel(n_jobs=4)]: Using backend LokyBackend with 4 concurrent workers.\n",
      "[Parallel(n_jobs=4)]: Done   2 out of   4 | elapsed:    7.0s remaining:    7.0s\n",
      "[Parallel(n_jobs=4)]: Done   4 out of   4 | elapsed:    7.8s finished\n",
      "[Parallel(n_jobs=4)]: Using backend LokyBackend with 4 concurrent workers.\n",
      "[Parallel(n_jobs=4)]: Done   2 out of   4 | elapsed: 46.8min remaining: 46.8min\n",
      "[Parallel(n_jobs=4)]: Done   4 out of   4 | elapsed: 46.8min finished\n",
      "[Parallel(n_jobs=4)]: Using backend LokyBackend with 4 concurrent workers.\n",
      "[Parallel(n_jobs=4)]: Done   2 out of   4 | elapsed:    7.5s remaining:    7.5s\n",
      "[Parallel(n_jobs=4)]: Done   4 out of   4 | elapsed:    8.3s finished\n",
      "[Parallel(n_jobs=4)]: Using backend LokyBackend with 4 concurrent workers.\n",
      "[Parallel(n_jobs=4)]: Done   2 out of   4 | elapsed: 65.1min remaining: 65.1min\n",
      "[Parallel(n_jobs=4)]: Done   4 out of   4 | elapsed: 65.3min finished\n",
      "[Parallel(n_jobs=4)]: Using backend LokyBackend with 4 concurrent workers.\n",
      "[Parallel(n_jobs=4)]: Done   2 out of   4 | elapsed:    9.9s remaining:    9.9s\n",
      "[Parallel(n_jobs=4)]: Done   4 out of   4 | elapsed:   11.5s finished\n",
      "[Parallel(n_jobs=4)]: Using backend LokyBackend with 4 concurrent workers.\n",
      "[Parallel(n_jobs=4)]: Done   2 out of   4 | elapsed: 113.7min remaining: 113.7min\n"
     ]
    },
    {
     "ename": "KeyboardInterrupt",
     "evalue": "",
     "output_type": "error",
     "traceback": [
      "\u001b[0;31m---------------------------------------------------------------------------\u001b[0m",
      "\u001b[0;31mKeyboardInterrupt\u001b[0m                         Traceback (most recent call last)",
      "\u001b[0;32m<ipython-input-214-7d8fc24fbf49>\u001b[0m in \u001b[0;36m<module>\u001b[0;34m\u001b[0m\n\u001b[1;32m      4\u001b[0m \u001b[0mprint\u001b[0m\u001b[0;34m(\u001b[0m\u001b[0;34m'Best Train Score: '\u001b[0m\u001b[0;34m,\u001b[0m\u001b[0mbag\u001b[0m\u001b[0;34m.\u001b[0m\u001b[0mscore\u001b[0m\u001b[0;34m(\u001b[0m\u001b[0mpca_train\u001b[0m\u001b[0;34m,\u001b[0m \u001b[0my_train\u001b[0m\u001b[0;34m)\u001b[0m\u001b[0;34m)\u001b[0m\u001b[0;34m\u001b[0m\u001b[0;34m\u001b[0m\u001b[0m\n\u001b[1;32m      5\u001b[0m \u001b[0mprint\u001b[0m\u001b[0;34m(\u001b[0m\u001b[0;34m'Best Test Score: '\u001b[0m\u001b[0;34m,\u001b[0m \u001b[0mbag\u001b[0m\u001b[0;34m.\u001b[0m\u001b[0mscore\u001b[0m\u001b[0;34m(\u001b[0m\u001b[0mpca_test\u001b[0m\u001b[0;34m,\u001b[0m \u001b[0my_test\u001b[0m\u001b[0;34m)\u001b[0m\u001b[0;34m)\u001b[0m\u001b[0;34m\u001b[0m\u001b[0;34m\u001b[0m\u001b[0m\n\u001b[0;32m----> 6\u001b[0;31m \u001b[0mprint\u001b[0m\u001b[0;34m(\u001b[0m\u001b[0;34m'Cross Validated Score: '\u001b[0m\u001b[0;34m,\u001b[0m\u001b[0mcross_val_score\u001b[0m\u001b[0;34m(\u001b[0m\u001b[0mbag\u001b[0m\u001b[0;34m,\u001b[0m \u001b[0mpca_train\u001b[0m\u001b[0;34m,\u001b[0m \u001b[0my_train\u001b[0m\u001b[0;34m,\u001b[0m \u001b[0mcv\u001b[0m\u001b[0;34m=\u001b[0m\u001b[0;36m5\u001b[0m\u001b[0;34m)\u001b[0m\u001b[0;34m.\u001b[0m\u001b[0mmean\u001b[0m\u001b[0;34m(\u001b[0m\u001b[0;34m)\u001b[0m\u001b[0;34m)\u001b[0m\u001b[0;34m\u001b[0m\u001b[0;34m\u001b[0m\u001b[0m\n\u001b[0m",
      "\u001b[0;32m/anaconda3/lib/python3.7/site-packages/sklearn/model_selection/_validation.py\u001b[0m in \u001b[0;36mcross_val_score\u001b[0;34m(estimator, X, y, groups, scoring, cv, n_jobs, verbose, fit_params, pre_dispatch, error_score)\u001b[0m\n\u001b[1;32m    400\u001b[0m                                 \u001b[0mfit_params\u001b[0m\u001b[0;34m=\u001b[0m\u001b[0mfit_params\u001b[0m\u001b[0;34m,\u001b[0m\u001b[0;34m\u001b[0m\u001b[0;34m\u001b[0m\u001b[0m\n\u001b[1;32m    401\u001b[0m                                 \u001b[0mpre_dispatch\u001b[0m\u001b[0;34m=\u001b[0m\u001b[0mpre_dispatch\u001b[0m\u001b[0;34m,\u001b[0m\u001b[0;34m\u001b[0m\u001b[0;34m\u001b[0m\u001b[0m\n\u001b[0;32m--> 402\u001b[0;31m                                 error_score=error_score)\n\u001b[0m\u001b[1;32m    403\u001b[0m     \u001b[0;32mreturn\u001b[0m \u001b[0mcv_results\u001b[0m\u001b[0;34m[\u001b[0m\u001b[0;34m'test_score'\u001b[0m\u001b[0;34m]\u001b[0m\u001b[0;34m\u001b[0m\u001b[0;34m\u001b[0m\u001b[0m\n\u001b[1;32m    404\u001b[0m \u001b[0;34m\u001b[0m\u001b[0m\n",
      "\u001b[0;32m/anaconda3/lib/python3.7/site-packages/sklearn/model_selection/_validation.py\u001b[0m in \u001b[0;36mcross_validate\u001b[0;34m(estimator, X, y, groups, scoring, cv, n_jobs, verbose, fit_params, pre_dispatch, return_train_score, return_estimator, error_score)\u001b[0m\n\u001b[1;32m    238\u001b[0m             \u001b[0mreturn_times\u001b[0m\u001b[0;34m=\u001b[0m\u001b[0;32mTrue\u001b[0m\u001b[0;34m,\u001b[0m \u001b[0mreturn_estimator\u001b[0m\u001b[0;34m=\u001b[0m\u001b[0mreturn_estimator\u001b[0m\u001b[0;34m,\u001b[0m\u001b[0;34m\u001b[0m\u001b[0;34m\u001b[0m\u001b[0m\n\u001b[1;32m    239\u001b[0m             error_score=error_score)\n\u001b[0;32m--> 240\u001b[0;31m         for train, test in cv.split(X, y, groups))\n\u001b[0m\u001b[1;32m    241\u001b[0m \u001b[0;34m\u001b[0m\u001b[0m\n\u001b[1;32m    242\u001b[0m     \u001b[0mzipped_scores\u001b[0m \u001b[0;34m=\u001b[0m \u001b[0mlist\u001b[0m\u001b[0;34m(\u001b[0m\u001b[0mzip\u001b[0m\u001b[0;34m(\u001b[0m\u001b[0;34m*\u001b[0m\u001b[0mscores\u001b[0m\u001b[0;34m)\u001b[0m\u001b[0;34m)\u001b[0m\u001b[0;34m\u001b[0m\u001b[0;34m\u001b[0m\u001b[0m\n",
      "\u001b[0;32m/anaconda3/lib/python3.7/site-packages/sklearn/externals/joblib/parallel.py\u001b[0m in \u001b[0;36m__call__\u001b[0;34m(self, iterable)\u001b[0m\n\u001b[1;32m    918\u001b[0m                 \u001b[0mself\u001b[0m\u001b[0;34m.\u001b[0m\u001b[0m_iterating\u001b[0m \u001b[0;34m=\u001b[0m \u001b[0mself\u001b[0m\u001b[0;34m.\u001b[0m\u001b[0m_original_iterator\u001b[0m \u001b[0;32mis\u001b[0m \u001b[0;32mnot\u001b[0m \u001b[0;32mNone\u001b[0m\u001b[0;34m\u001b[0m\u001b[0;34m\u001b[0m\u001b[0m\n\u001b[1;32m    919\u001b[0m \u001b[0;34m\u001b[0m\u001b[0m\n\u001b[0;32m--> 920\u001b[0;31m             \u001b[0;32mwhile\u001b[0m \u001b[0mself\u001b[0m\u001b[0;34m.\u001b[0m\u001b[0mdispatch_one_batch\u001b[0m\u001b[0;34m(\u001b[0m\u001b[0miterator\u001b[0m\u001b[0;34m)\u001b[0m\u001b[0;34m:\u001b[0m\u001b[0;34m\u001b[0m\u001b[0;34m\u001b[0m\u001b[0m\n\u001b[0m\u001b[1;32m    921\u001b[0m                 \u001b[0;32mpass\u001b[0m\u001b[0;34m\u001b[0m\u001b[0;34m\u001b[0m\u001b[0m\n\u001b[1;32m    922\u001b[0m \u001b[0;34m\u001b[0m\u001b[0m\n",
      "\u001b[0;32m/anaconda3/lib/python3.7/site-packages/sklearn/externals/joblib/parallel.py\u001b[0m in \u001b[0;36mdispatch_one_batch\u001b[0;34m(self, iterator)\u001b[0m\n\u001b[1;32m    757\u001b[0m                 \u001b[0;32mreturn\u001b[0m \u001b[0;32mFalse\u001b[0m\u001b[0;34m\u001b[0m\u001b[0;34m\u001b[0m\u001b[0m\n\u001b[1;32m    758\u001b[0m             \u001b[0;32melse\u001b[0m\u001b[0;34m:\u001b[0m\u001b[0;34m\u001b[0m\u001b[0;34m\u001b[0m\u001b[0m\n\u001b[0;32m--> 759\u001b[0;31m                 \u001b[0mself\u001b[0m\u001b[0;34m.\u001b[0m\u001b[0m_dispatch\u001b[0m\u001b[0;34m(\u001b[0m\u001b[0mtasks\u001b[0m\u001b[0;34m)\u001b[0m\u001b[0;34m\u001b[0m\u001b[0;34m\u001b[0m\u001b[0m\n\u001b[0m\u001b[1;32m    760\u001b[0m                 \u001b[0;32mreturn\u001b[0m \u001b[0;32mTrue\u001b[0m\u001b[0;34m\u001b[0m\u001b[0;34m\u001b[0m\u001b[0m\n\u001b[1;32m    761\u001b[0m \u001b[0;34m\u001b[0m\u001b[0m\n",
      "\u001b[0;32m/anaconda3/lib/python3.7/site-packages/sklearn/externals/joblib/parallel.py\u001b[0m in \u001b[0;36m_dispatch\u001b[0;34m(self, batch)\u001b[0m\n\u001b[1;32m    714\u001b[0m         \u001b[0;32mwith\u001b[0m \u001b[0mself\u001b[0m\u001b[0;34m.\u001b[0m\u001b[0m_lock\u001b[0m\u001b[0;34m:\u001b[0m\u001b[0;34m\u001b[0m\u001b[0;34m\u001b[0m\u001b[0m\n\u001b[1;32m    715\u001b[0m             \u001b[0mjob_idx\u001b[0m \u001b[0;34m=\u001b[0m \u001b[0mlen\u001b[0m\u001b[0;34m(\u001b[0m\u001b[0mself\u001b[0m\u001b[0;34m.\u001b[0m\u001b[0m_jobs\u001b[0m\u001b[0;34m)\u001b[0m\u001b[0;34m\u001b[0m\u001b[0;34m\u001b[0m\u001b[0m\n\u001b[0;32m--> 716\u001b[0;31m             \u001b[0mjob\u001b[0m \u001b[0;34m=\u001b[0m \u001b[0mself\u001b[0m\u001b[0;34m.\u001b[0m\u001b[0m_backend\u001b[0m\u001b[0;34m.\u001b[0m\u001b[0mapply_async\u001b[0m\u001b[0;34m(\u001b[0m\u001b[0mbatch\u001b[0m\u001b[0;34m,\u001b[0m \u001b[0mcallback\u001b[0m\u001b[0;34m=\u001b[0m\u001b[0mcb\u001b[0m\u001b[0;34m)\u001b[0m\u001b[0;34m\u001b[0m\u001b[0;34m\u001b[0m\u001b[0m\n\u001b[0m\u001b[1;32m    717\u001b[0m             \u001b[0;31m# A job can complete so quickly than its callback is\u001b[0m\u001b[0;34m\u001b[0m\u001b[0;34m\u001b[0m\u001b[0;34m\u001b[0m\u001b[0m\n\u001b[1;32m    718\u001b[0m             \u001b[0;31m# called before we get here, causing self._jobs to\u001b[0m\u001b[0;34m\u001b[0m\u001b[0;34m\u001b[0m\u001b[0;34m\u001b[0m\u001b[0m\n",
      "\u001b[0;32m/anaconda3/lib/python3.7/site-packages/sklearn/externals/joblib/_parallel_backends.py\u001b[0m in \u001b[0;36mapply_async\u001b[0;34m(self, func, callback)\u001b[0m\n\u001b[1;32m    180\u001b[0m     \u001b[0;32mdef\u001b[0m \u001b[0mapply_async\u001b[0m\u001b[0;34m(\u001b[0m\u001b[0mself\u001b[0m\u001b[0;34m,\u001b[0m \u001b[0mfunc\u001b[0m\u001b[0;34m,\u001b[0m \u001b[0mcallback\u001b[0m\u001b[0;34m=\u001b[0m\u001b[0;32mNone\u001b[0m\u001b[0;34m)\u001b[0m\u001b[0;34m:\u001b[0m\u001b[0;34m\u001b[0m\u001b[0;34m\u001b[0m\u001b[0m\n\u001b[1;32m    181\u001b[0m         \u001b[0;34m\"\"\"Schedule a func to be run\"\"\"\u001b[0m\u001b[0;34m\u001b[0m\u001b[0;34m\u001b[0m\u001b[0m\n\u001b[0;32m--> 182\u001b[0;31m         \u001b[0mresult\u001b[0m \u001b[0;34m=\u001b[0m \u001b[0mImmediateResult\u001b[0m\u001b[0;34m(\u001b[0m\u001b[0mfunc\u001b[0m\u001b[0;34m)\u001b[0m\u001b[0;34m\u001b[0m\u001b[0;34m\u001b[0m\u001b[0m\n\u001b[0m\u001b[1;32m    183\u001b[0m         \u001b[0;32mif\u001b[0m \u001b[0mcallback\u001b[0m\u001b[0;34m:\u001b[0m\u001b[0;34m\u001b[0m\u001b[0;34m\u001b[0m\u001b[0m\n\u001b[1;32m    184\u001b[0m             \u001b[0mcallback\u001b[0m\u001b[0;34m(\u001b[0m\u001b[0mresult\u001b[0m\u001b[0;34m)\u001b[0m\u001b[0;34m\u001b[0m\u001b[0;34m\u001b[0m\u001b[0m\n",
      "\u001b[0;32m/anaconda3/lib/python3.7/site-packages/sklearn/externals/joblib/_parallel_backends.py\u001b[0m in \u001b[0;36m__init__\u001b[0;34m(self, batch)\u001b[0m\n\u001b[1;32m    547\u001b[0m         \u001b[0;31m# Don't delay the application, to avoid keeping the input\u001b[0m\u001b[0;34m\u001b[0m\u001b[0;34m\u001b[0m\u001b[0;34m\u001b[0m\u001b[0m\n\u001b[1;32m    548\u001b[0m         \u001b[0;31m# arguments in memory\u001b[0m\u001b[0;34m\u001b[0m\u001b[0;34m\u001b[0m\u001b[0;34m\u001b[0m\u001b[0m\n\u001b[0;32m--> 549\u001b[0;31m         \u001b[0mself\u001b[0m\u001b[0;34m.\u001b[0m\u001b[0mresults\u001b[0m \u001b[0;34m=\u001b[0m \u001b[0mbatch\u001b[0m\u001b[0;34m(\u001b[0m\u001b[0;34m)\u001b[0m\u001b[0;34m\u001b[0m\u001b[0;34m\u001b[0m\u001b[0m\n\u001b[0m\u001b[1;32m    550\u001b[0m \u001b[0;34m\u001b[0m\u001b[0m\n\u001b[1;32m    551\u001b[0m     \u001b[0;32mdef\u001b[0m \u001b[0mget\u001b[0m\u001b[0;34m(\u001b[0m\u001b[0mself\u001b[0m\u001b[0;34m)\u001b[0m\u001b[0;34m:\u001b[0m\u001b[0;34m\u001b[0m\u001b[0;34m\u001b[0m\u001b[0m\n",
      "\u001b[0;32m/anaconda3/lib/python3.7/site-packages/sklearn/externals/joblib/parallel.py\u001b[0m in \u001b[0;36m__call__\u001b[0;34m(self)\u001b[0m\n\u001b[1;32m    223\u001b[0m         \u001b[0;32mwith\u001b[0m \u001b[0mparallel_backend\u001b[0m\u001b[0;34m(\u001b[0m\u001b[0mself\u001b[0m\u001b[0;34m.\u001b[0m\u001b[0m_backend\u001b[0m\u001b[0;34m,\u001b[0m \u001b[0mn_jobs\u001b[0m\u001b[0;34m=\u001b[0m\u001b[0mself\u001b[0m\u001b[0;34m.\u001b[0m\u001b[0m_n_jobs\u001b[0m\u001b[0;34m)\u001b[0m\u001b[0;34m:\u001b[0m\u001b[0;34m\u001b[0m\u001b[0;34m\u001b[0m\u001b[0m\n\u001b[1;32m    224\u001b[0m             return [func(*args, **kwargs)\n\u001b[0;32m--> 225\u001b[0;31m                     for func, args, kwargs in self.items]\n\u001b[0m\u001b[1;32m    226\u001b[0m \u001b[0;34m\u001b[0m\u001b[0m\n\u001b[1;32m    227\u001b[0m     \u001b[0;32mdef\u001b[0m \u001b[0m__len__\u001b[0m\u001b[0;34m(\u001b[0m\u001b[0mself\u001b[0m\u001b[0;34m)\u001b[0m\u001b[0;34m:\u001b[0m\u001b[0;34m\u001b[0m\u001b[0;34m\u001b[0m\u001b[0m\n",
      "\u001b[0;32m/anaconda3/lib/python3.7/site-packages/sklearn/externals/joblib/parallel.py\u001b[0m in \u001b[0;36m<listcomp>\u001b[0;34m(.0)\u001b[0m\n\u001b[1;32m    223\u001b[0m         \u001b[0;32mwith\u001b[0m \u001b[0mparallel_backend\u001b[0m\u001b[0;34m(\u001b[0m\u001b[0mself\u001b[0m\u001b[0;34m.\u001b[0m\u001b[0m_backend\u001b[0m\u001b[0;34m,\u001b[0m \u001b[0mn_jobs\u001b[0m\u001b[0;34m=\u001b[0m\u001b[0mself\u001b[0m\u001b[0;34m.\u001b[0m\u001b[0m_n_jobs\u001b[0m\u001b[0;34m)\u001b[0m\u001b[0;34m:\u001b[0m\u001b[0;34m\u001b[0m\u001b[0;34m\u001b[0m\u001b[0m\n\u001b[1;32m    224\u001b[0m             return [func(*args, **kwargs)\n\u001b[0;32m--> 225\u001b[0;31m                     for func, args, kwargs in self.items]\n\u001b[0m\u001b[1;32m    226\u001b[0m \u001b[0;34m\u001b[0m\u001b[0m\n\u001b[1;32m    227\u001b[0m     \u001b[0;32mdef\u001b[0m \u001b[0m__len__\u001b[0m\u001b[0;34m(\u001b[0m\u001b[0mself\u001b[0m\u001b[0;34m)\u001b[0m\u001b[0;34m:\u001b[0m\u001b[0;34m\u001b[0m\u001b[0;34m\u001b[0m\u001b[0m\n",
      "\u001b[0;32m/anaconda3/lib/python3.7/site-packages/sklearn/model_selection/_validation.py\u001b[0m in \u001b[0;36m_fit_and_score\u001b[0;34m(estimator, X, y, scorer, train, test, verbose, parameters, fit_params, return_train_score, return_parameters, return_n_test_samples, return_times, return_estimator, error_score)\u001b[0m\n\u001b[1;32m    526\u001b[0m             \u001b[0mestimator\u001b[0m\u001b[0;34m.\u001b[0m\u001b[0mfit\u001b[0m\u001b[0;34m(\u001b[0m\u001b[0mX_train\u001b[0m\u001b[0;34m,\u001b[0m \u001b[0;34m**\u001b[0m\u001b[0mfit_params\u001b[0m\u001b[0;34m)\u001b[0m\u001b[0;34m\u001b[0m\u001b[0;34m\u001b[0m\u001b[0m\n\u001b[1;32m    527\u001b[0m         \u001b[0;32melse\u001b[0m\u001b[0;34m:\u001b[0m\u001b[0;34m\u001b[0m\u001b[0;34m\u001b[0m\u001b[0m\n\u001b[0;32m--> 528\u001b[0;31m             \u001b[0mestimator\u001b[0m\u001b[0;34m.\u001b[0m\u001b[0mfit\u001b[0m\u001b[0;34m(\u001b[0m\u001b[0mX_train\u001b[0m\u001b[0;34m,\u001b[0m \u001b[0my_train\u001b[0m\u001b[0;34m,\u001b[0m \u001b[0;34m**\u001b[0m\u001b[0mfit_params\u001b[0m\u001b[0;34m)\u001b[0m\u001b[0;34m\u001b[0m\u001b[0;34m\u001b[0m\u001b[0m\n\u001b[0m\u001b[1;32m    529\u001b[0m \u001b[0;34m\u001b[0m\u001b[0m\n\u001b[1;32m    530\u001b[0m     \u001b[0;32mexcept\u001b[0m \u001b[0mException\u001b[0m \u001b[0;32mas\u001b[0m \u001b[0me\u001b[0m\u001b[0;34m:\u001b[0m\u001b[0;34m\u001b[0m\u001b[0;34m\u001b[0m\u001b[0m\n",
      "\u001b[0;32m/anaconda3/lib/python3.7/site-packages/sklearn/ensemble/bagging.py\u001b[0m in \u001b[0;36mfit\u001b[0;34m(self, X, y, sample_weight)\u001b[0m\n\u001b[1;32m    242\u001b[0m         \u001b[0mself\u001b[0m \u001b[0;34m:\u001b[0m \u001b[0mobject\u001b[0m\u001b[0;34m\u001b[0m\u001b[0;34m\u001b[0m\u001b[0m\n\u001b[1;32m    243\u001b[0m         \"\"\"\n\u001b[0;32m--> 244\u001b[0;31m         \u001b[0;32mreturn\u001b[0m \u001b[0mself\u001b[0m\u001b[0;34m.\u001b[0m\u001b[0m_fit\u001b[0m\u001b[0;34m(\u001b[0m\u001b[0mX\u001b[0m\u001b[0;34m,\u001b[0m \u001b[0my\u001b[0m\u001b[0;34m,\u001b[0m \u001b[0mself\u001b[0m\u001b[0;34m.\u001b[0m\u001b[0mmax_samples\u001b[0m\u001b[0;34m,\u001b[0m \u001b[0msample_weight\u001b[0m\u001b[0;34m=\u001b[0m\u001b[0msample_weight\u001b[0m\u001b[0;34m)\u001b[0m\u001b[0;34m\u001b[0m\u001b[0;34m\u001b[0m\u001b[0m\n\u001b[0m\u001b[1;32m    245\u001b[0m \u001b[0;34m\u001b[0m\u001b[0m\n\u001b[1;32m    246\u001b[0m     \u001b[0;32mdef\u001b[0m \u001b[0m_fit\u001b[0m\u001b[0;34m(\u001b[0m\u001b[0mself\u001b[0m\u001b[0;34m,\u001b[0m \u001b[0mX\u001b[0m\u001b[0;34m,\u001b[0m \u001b[0my\u001b[0m\u001b[0;34m,\u001b[0m \u001b[0mmax_samples\u001b[0m\u001b[0;34m=\u001b[0m\u001b[0;32mNone\u001b[0m\u001b[0;34m,\u001b[0m \u001b[0mmax_depth\u001b[0m\u001b[0;34m=\u001b[0m\u001b[0;32mNone\u001b[0m\u001b[0;34m,\u001b[0m \u001b[0msample_weight\u001b[0m\u001b[0;34m=\u001b[0m\u001b[0;32mNone\u001b[0m\u001b[0;34m)\u001b[0m\u001b[0;34m:\u001b[0m\u001b[0;34m\u001b[0m\u001b[0;34m\u001b[0m\u001b[0m\n",
      "\u001b[0;32m/anaconda3/lib/python3.7/site-packages/sklearn/ensemble/bagging.py\u001b[0m in \u001b[0;36m_fit\u001b[0;34m(self, X, y, max_samples, max_depth, sample_weight)\u001b[0m\n\u001b[1;32m    376\u001b[0m                 \u001b[0mtotal_n_estimators\u001b[0m\u001b[0;34m,\u001b[0m\u001b[0;34m\u001b[0m\u001b[0;34m\u001b[0m\u001b[0m\n\u001b[1;32m    377\u001b[0m                 verbose=self.verbose)\n\u001b[0;32m--> 378\u001b[0;31m             for i in range(n_jobs))\n\u001b[0m\u001b[1;32m    379\u001b[0m \u001b[0;34m\u001b[0m\u001b[0m\n\u001b[1;32m    380\u001b[0m         \u001b[0;31m# Reduce\u001b[0m\u001b[0;34m\u001b[0m\u001b[0;34m\u001b[0m\u001b[0;34m\u001b[0m\u001b[0m\n",
      "\u001b[0;32m/anaconda3/lib/python3.7/site-packages/sklearn/externals/joblib/parallel.py\u001b[0m in \u001b[0;36m__call__\u001b[0;34m(self, iterable)\u001b[0m\n\u001b[1;32m    928\u001b[0m \u001b[0;34m\u001b[0m\u001b[0m\n\u001b[1;32m    929\u001b[0m             \u001b[0;32mwith\u001b[0m \u001b[0mself\u001b[0m\u001b[0;34m.\u001b[0m\u001b[0m_backend\u001b[0m\u001b[0;34m.\u001b[0m\u001b[0mretrieval_context\u001b[0m\u001b[0;34m(\u001b[0m\u001b[0;34m)\u001b[0m\u001b[0;34m:\u001b[0m\u001b[0;34m\u001b[0m\u001b[0;34m\u001b[0m\u001b[0m\n\u001b[0;32m--> 930\u001b[0;31m                 \u001b[0mself\u001b[0m\u001b[0;34m.\u001b[0m\u001b[0mretrieve\u001b[0m\u001b[0;34m(\u001b[0m\u001b[0;34m)\u001b[0m\u001b[0;34m\u001b[0m\u001b[0;34m\u001b[0m\u001b[0m\n\u001b[0m\u001b[1;32m    931\u001b[0m             \u001b[0;31m# Make sure that we get a last message telling us we are done\u001b[0m\u001b[0;34m\u001b[0m\u001b[0;34m\u001b[0m\u001b[0;34m\u001b[0m\u001b[0m\n\u001b[1;32m    932\u001b[0m             \u001b[0melapsed_time\u001b[0m \u001b[0;34m=\u001b[0m \u001b[0mtime\u001b[0m\u001b[0;34m.\u001b[0m\u001b[0mtime\u001b[0m\u001b[0;34m(\u001b[0m\u001b[0;34m)\u001b[0m \u001b[0;34m-\u001b[0m \u001b[0mself\u001b[0m\u001b[0;34m.\u001b[0m\u001b[0m_start_time\u001b[0m\u001b[0;34m\u001b[0m\u001b[0;34m\u001b[0m\u001b[0m\n",
      "\u001b[0;32m/anaconda3/lib/python3.7/site-packages/sklearn/externals/joblib/parallel.py\u001b[0m in \u001b[0;36mretrieve\u001b[0;34m(self)\u001b[0m\n\u001b[1;32m    831\u001b[0m             \u001b[0;32mtry\u001b[0m\u001b[0;34m:\u001b[0m\u001b[0;34m\u001b[0m\u001b[0;34m\u001b[0m\u001b[0m\n\u001b[1;32m    832\u001b[0m                 \u001b[0;32mif\u001b[0m \u001b[0mgetattr\u001b[0m\u001b[0;34m(\u001b[0m\u001b[0mself\u001b[0m\u001b[0;34m.\u001b[0m\u001b[0m_backend\u001b[0m\u001b[0;34m,\u001b[0m \u001b[0;34m'supports_timeout'\u001b[0m\u001b[0;34m,\u001b[0m \u001b[0;32mFalse\u001b[0m\u001b[0;34m)\u001b[0m\u001b[0;34m:\u001b[0m\u001b[0;34m\u001b[0m\u001b[0;34m\u001b[0m\u001b[0m\n\u001b[0;32m--> 833\u001b[0;31m                     \u001b[0mself\u001b[0m\u001b[0;34m.\u001b[0m\u001b[0m_output\u001b[0m\u001b[0;34m.\u001b[0m\u001b[0mextend\u001b[0m\u001b[0;34m(\u001b[0m\u001b[0mjob\u001b[0m\u001b[0;34m.\u001b[0m\u001b[0mget\u001b[0m\u001b[0;34m(\u001b[0m\u001b[0mtimeout\u001b[0m\u001b[0;34m=\u001b[0m\u001b[0mself\u001b[0m\u001b[0;34m.\u001b[0m\u001b[0mtimeout\u001b[0m\u001b[0;34m)\u001b[0m\u001b[0;34m)\u001b[0m\u001b[0;34m\u001b[0m\u001b[0;34m\u001b[0m\u001b[0m\n\u001b[0m\u001b[1;32m    834\u001b[0m                 \u001b[0;32melse\u001b[0m\u001b[0;34m:\u001b[0m\u001b[0;34m\u001b[0m\u001b[0;34m\u001b[0m\u001b[0m\n\u001b[1;32m    835\u001b[0m                     \u001b[0mself\u001b[0m\u001b[0;34m.\u001b[0m\u001b[0m_output\u001b[0m\u001b[0;34m.\u001b[0m\u001b[0mextend\u001b[0m\u001b[0;34m(\u001b[0m\u001b[0mjob\u001b[0m\u001b[0;34m.\u001b[0m\u001b[0mget\u001b[0m\u001b[0;34m(\u001b[0m\u001b[0;34m)\u001b[0m\u001b[0;34m)\u001b[0m\u001b[0;34m\u001b[0m\u001b[0;34m\u001b[0m\u001b[0m\n",
      "\u001b[0;32m/anaconda3/lib/python3.7/site-packages/sklearn/externals/joblib/_parallel_backends.py\u001b[0m in \u001b[0;36mwrap_future_result\u001b[0;34m(future, timeout)\u001b[0m\n\u001b[1;32m    519\u001b[0m         AsyncResults.get from multiprocessing.\"\"\"\n\u001b[1;32m    520\u001b[0m         \u001b[0;32mtry\u001b[0m\u001b[0;34m:\u001b[0m\u001b[0;34m\u001b[0m\u001b[0;34m\u001b[0m\u001b[0m\n\u001b[0;32m--> 521\u001b[0;31m             \u001b[0;32mreturn\u001b[0m \u001b[0mfuture\u001b[0m\u001b[0;34m.\u001b[0m\u001b[0mresult\u001b[0m\u001b[0;34m(\u001b[0m\u001b[0mtimeout\u001b[0m\u001b[0;34m=\u001b[0m\u001b[0mtimeout\u001b[0m\u001b[0;34m)\u001b[0m\u001b[0;34m\u001b[0m\u001b[0;34m\u001b[0m\u001b[0m\n\u001b[0m\u001b[1;32m    522\u001b[0m         \u001b[0;32mexcept\u001b[0m \u001b[0mLokyTimeoutError\u001b[0m\u001b[0;34m:\u001b[0m\u001b[0;34m\u001b[0m\u001b[0;34m\u001b[0m\u001b[0m\n\u001b[1;32m    523\u001b[0m             \u001b[0;32mraise\u001b[0m \u001b[0mTimeoutError\u001b[0m\u001b[0;34m(\u001b[0m\u001b[0;34m)\u001b[0m\u001b[0;34m\u001b[0m\u001b[0;34m\u001b[0m\u001b[0m\n",
      "\u001b[0;32m/anaconda3/lib/python3.7/concurrent/futures/_base.py\u001b[0m in \u001b[0;36mresult\u001b[0;34m(self, timeout)\u001b[0m\n\u001b[1;32m    425\u001b[0m                 \u001b[0;32mreturn\u001b[0m \u001b[0mself\u001b[0m\u001b[0;34m.\u001b[0m\u001b[0m__get_result\u001b[0m\u001b[0;34m(\u001b[0m\u001b[0;34m)\u001b[0m\u001b[0;34m\u001b[0m\u001b[0;34m\u001b[0m\u001b[0m\n\u001b[1;32m    426\u001b[0m \u001b[0;34m\u001b[0m\u001b[0m\n\u001b[0;32m--> 427\u001b[0;31m             \u001b[0mself\u001b[0m\u001b[0;34m.\u001b[0m\u001b[0m_condition\u001b[0m\u001b[0;34m.\u001b[0m\u001b[0mwait\u001b[0m\u001b[0;34m(\u001b[0m\u001b[0mtimeout\u001b[0m\u001b[0;34m)\u001b[0m\u001b[0;34m\u001b[0m\u001b[0;34m\u001b[0m\u001b[0m\n\u001b[0m\u001b[1;32m    428\u001b[0m \u001b[0;34m\u001b[0m\u001b[0m\n\u001b[1;32m    429\u001b[0m             \u001b[0;32mif\u001b[0m \u001b[0mself\u001b[0m\u001b[0;34m.\u001b[0m\u001b[0m_state\u001b[0m \u001b[0;32min\u001b[0m \u001b[0;34m[\u001b[0m\u001b[0mCANCELLED\u001b[0m\u001b[0;34m,\u001b[0m \u001b[0mCANCELLED_AND_NOTIFIED\u001b[0m\u001b[0;34m]\u001b[0m\u001b[0;34m:\u001b[0m\u001b[0;34m\u001b[0m\u001b[0;34m\u001b[0m\u001b[0m\n",
      "\u001b[0;32m/anaconda3/lib/python3.7/threading.py\u001b[0m in \u001b[0;36mwait\u001b[0;34m(self, timeout)\u001b[0m\n\u001b[1;32m    294\u001b[0m         \u001b[0;32mtry\u001b[0m\u001b[0;34m:\u001b[0m    \u001b[0;31m# restore state no matter what (e.g., KeyboardInterrupt)\u001b[0m\u001b[0;34m\u001b[0m\u001b[0;34m\u001b[0m\u001b[0m\n\u001b[1;32m    295\u001b[0m             \u001b[0;32mif\u001b[0m \u001b[0mtimeout\u001b[0m \u001b[0;32mis\u001b[0m \u001b[0;32mNone\u001b[0m\u001b[0;34m:\u001b[0m\u001b[0;34m\u001b[0m\u001b[0;34m\u001b[0m\u001b[0m\n\u001b[0;32m--> 296\u001b[0;31m                 \u001b[0mwaiter\u001b[0m\u001b[0;34m.\u001b[0m\u001b[0macquire\u001b[0m\u001b[0;34m(\u001b[0m\u001b[0;34m)\u001b[0m\u001b[0;34m\u001b[0m\u001b[0;34m\u001b[0m\u001b[0m\n\u001b[0m\u001b[1;32m    297\u001b[0m                 \u001b[0mgotit\u001b[0m \u001b[0;34m=\u001b[0m \u001b[0;32mTrue\u001b[0m\u001b[0;34m\u001b[0m\u001b[0;34m\u001b[0m\u001b[0m\n\u001b[1;32m    298\u001b[0m             \u001b[0;32melse\u001b[0m\u001b[0;34m:\u001b[0m\u001b[0;34m\u001b[0m\u001b[0;34m\u001b[0m\u001b[0m\n",
      "\u001b[0;31mKeyboardInterrupt\u001b[0m: "
     ]
    }
   ],
   "source": [
    "bag.fit(pca_train, y_train)\n",
    "dump(bag, 'bagclass.joblib')\n",
    "\n",
    "print('Best Train Score: ',bag.score(pca_train, y_train))\n",
    "print('Best Test Score: ', bag.score(pca_test, y_test))\n",
    "print('Cross Validated Score: ',cross_val_score(bag, pca_train, y_train, cv=5).mean())"
   ]
  },
  {
   "cell_type": "code",
   "execution_count": 215,
   "metadata": {
    "scrolled": true
   },
   "outputs": [
    {
     "name": "stderr",
     "output_type": "stream",
     "text": [
      "[Parallel(n_jobs=4)]: Using backend LokyBackend with 4 concurrent workers.\n",
      "[Parallel(n_jobs=4)]: Done   2 out of   4 | elapsed: 43.8min remaining: 43.8min\n",
      "[Parallel(n_jobs=4)]: Done   4 out of   4 | elapsed: 43.9min finished\n",
      "[Parallel(n_jobs=4)]: Using backend LokyBackend with 4 concurrent workers.\n",
      "[Parallel(n_jobs=4)]: Done   2 out of   4 | elapsed:    6.4s remaining:    6.4s\n",
      "[Parallel(n_jobs=4)]: Done   4 out of   4 | elapsed:    7.2s finished\n",
      "[Parallel(n_jobs=4)]: Using backend LokyBackend with 4 concurrent workers.\n",
      "[Parallel(n_jobs=4)]: Done   2 out of   4 | elapsed: 39.3min remaining: 39.3min\n",
      "[Parallel(n_jobs=4)]: Done   4 out of   4 | elapsed: 39.6min finished\n",
      "[Parallel(n_jobs=4)]: Using backend LokyBackend with 4 concurrent workers.\n",
      "[Parallel(n_jobs=4)]: Done   2 out of   4 | elapsed:    6.4s remaining:    6.4s\n",
      "[Parallel(n_jobs=4)]: Done   4 out of   4 | elapsed:    7.2s finished\n",
      "[Parallel(n_jobs=4)]: Using backend LokyBackend with 4 concurrent workers.\n",
      "[Parallel(n_jobs=4)]: Done   2 out of   4 | elapsed: 47.9min remaining: 47.9min\n",
      "[Parallel(n_jobs=4)]: Done   4 out of   4 | elapsed: 48.1min finished\n",
      "[Parallel(n_jobs=4)]: Using backend LokyBackend with 4 concurrent workers.\n",
      "[Parallel(n_jobs=4)]: Done   2 out of   4 | elapsed:    7.2s remaining:    7.2s\n",
      "[Parallel(n_jobs=4)]: Done   4 out of   4 | elapsed:    8.0s finished\n",
      "[Parallel(n_jobs=4)]: Using backend LokyBackend with 4 concurrent workers.\n",
      "[Parallel(n_jobs=4)]: Done   2 out of   4 | elapsed: 51.4min remaining: 51.4min\n",
      "[Parallel(n_jobs=4)]: Done   4 out of   4 | elapsed: 51.6min finished\n",
      "[Parallel(n_jobs=4)]: Using backend LokyBackend with 4 concurrent workers.\n",
      "[Parallel(n_jobs=4)]: Done   2 out of   4 | elapsed:    6.9s remaining:    6.9s\n",
      "[Parallel(n_jobs=4)]: Done   4 out of   4 | elapsed:    7.7s finished\n",
      "[Parallel(n_jobs=4)]: Using backend LokyBackend with 4 concurrent workers.\n",
      "[Parallel(n_jobs=4)]: Done   2 out of   4 | elapsed: 50.7min remaining: 50.7min\n",
      "[Parallel(n_jobs=4)]: Done   4 out of   4 | elapsed: 50.9min finished\n",
      "[Parallel(n_jobs=4)]: Using backend LokyBackend with 4 concurrent workers.\n",
      "[Parallel(n_jobs=4)]: Done   2 out of   4 | elapsed:    6.7s remaining:    6.7s\n"
     ]
    },
    {
     "name": "stdout",
     "output_type": "stream",
     "text": [
      "Cross Validated Score:  0.5639535987299557\n"
     ]
    },
    {
     "name": "stderr",
     "output_type": "stream",
     "text": [
      "[Parallel(n_jobs=4)]: Done   4 out of   4 | elapsed:    7.5s finished\n"
     ]
    }
   ],
   "source": [
    "print('Cross Validated Score: ',cross_val_score(bag, pca_train, y_train, cv=5).mean())"
   ]
  },
  {
   "cell_type": "markdown",
   "metadata": {},
   "source": [
    "- Best Train Score:  0.9925800175485446\n",
    "- Best Test Score:  0.7131392310563643\n",
    "- Cross Validated Score:  0.5639535987299557"
   ]
  },
  {
   "cell_type": "code",
   "execution_count": 224,
   "metadata": {
    "scrolled": true
   },
   "outputs": [
    {
     "name": "stderr",
     "output_type": "stream",
     "text": [
      "[Parallel(n_jobs=4)]: Using backend LokyBackend with 4 concurrent workers.\n",
      "[Parallel(n_jobs=4)]: Done   2 out of   4 | elapsed:    8.9s remaining:    8.9s\n",
      "[Parallel(n_jobs=4)]: Done   4 out of   4 | elapsed:   10.3s finished\n"
     ]
    },
    {
     "data": {
      "text/html": [
       "<div>\n",
       "<style scoped>\n",
       "    .dataframe tbody tr th:only-of-type {\n",
       "        vertical-align: middle;\n",
       "    }\n",
       "\n",
       "    .dataframe tbody tr th {\n",
       "        vertical-align: top;\n",
       "    }\n",
       "\n",
       "    .dataframe thead th {\n",
       "        text-align: right;\n",
       "    }\n",
       "</style>\n",
       "<table border=\"1\" class=\"dataframe\">\n",
       "  <thead>\n",
       "    <tr style=\"text-align: right;\">\n",
       "      <th></th>\n",
       "      <th>0</th>\n",
       "      <th>1</th>\n",
       "    </tr>\n",
       "  </thead>\n",
       "  <tbody>\n",
       "    <tr>\n",
       "      <th>0</th>\n",
       "      <td>462</td>\n",
       "      <td>2685</td>\n",
       "    </tr>\n",
       "    <tr>\n",
       "      <th>1</th>\n",
       "      <td>389</td>\n",
       "      <td>7180</td>\n",
       "    </tr>\n",
       "  </tbody>\n",
       "</table>\n",
       "</div>"
      ],
      "text/plain": [
       "     0     1\n",
       "0  462  2685\n",
       "1  389  7180"
      ]
     },
     "execution_count": 224,
     "metadata": {},
     "output_type": "execute_result"
    }
   ],
   "source": [
    "bag_predictions = bag.predict(pca_test)\n",
    "confusion = confusion_matrix(y_test, bag_predictions)\n",
    "pd.DataFrame(confusion, columns=sorted(y_train.unique()),\n",
    "             index=sorted(y_train.unique()))"
   ]
  },
  {
   "cell_type": "code",
   "execution_count": 228,
   "metadata": {},
   "outputs": [
    {
     "data": {
      "text/plain": [
       "<matplotlib.axes._subplots.AxesSubplot at 0x1a16f4fd30>"
      ]
     },
     "execution_count": 228,
     "metadata": {},
     "output_type": "execute_result"
    },
    {
     "data": {
      "image/png": "[encoded data removed]",
      "text/plain": [
       "<Figure size 432x288 with 2 Axes>"
      ]
     },
     "metadata": {
      "image/png": {
       "height": 250,
       "width": 359
      },
      "needs_background": "light"
     },
     "output_type": "display_data"
    }
   ],
   "source": [
    "sns.heatmap(pd.DataFrame(confusion, columns=sorted(y_train.unique()),\n",
    "             index=sorted(y_train.unique())), annot=True,annot_kws={\"size\": 16})"
   ]
  },
  {
   "cell_type": "code",
   "execution_count": null,
   "metadata": {},
   "outputs": [],
   "source": []
  },
  {
   "cell_type": "code",
   "execution_count": 225,
   "metadata": {},
   "outputs": [
    {
     "name": "stdout",
     "output_type": "stream",
     "text": [
      "              precision    recall  f1-score   support\n",
      "\n",
      "           0       0.54      0.15      0.23      3147\n",
      "           1       0.73      0.95      0.82      7569\n",
      "\n",
      "   micro avg       0.71      0.71      0.71     10716\n",
      "   macro avg       0.64      0.55      0.53     10716\n",
      "weighted avg       0.67      0.71      0.65     10716\n",
      "\n"
     ]
    }
   ],
   "source": [
    "print(classification_report(y_test, bag_predictions))"
   ]
  },
  {
   "cell_type": "code",
   "execution_count": null,
   "metadata": {},
   "outputs": [],
   "source": [
    "# bag_params = {'base_estimator': [DecisionTreeClassifier()], \n",
    "#                 'max_samples': np.linspace(0.1,1,5),\n",
    "#                 'max_features':np.linspace(0.1,1,5)\n",
    "#                 }\n",
    "# bag_gs = GridSearchCV(bag,\n",
    "#                      bag_params,\n",
    "#                      n_jobs=-1, \n",
    "#                      cv=3, \n",
    "#                      verbose=1)\n",
    "# bag_gs.fit(pca_train, y_train)\n",
    "# best_bag = treeclass_gs.best_estimator_\n",
    "# dump(best_bag, 'bagclass.joblib')\n",
    "\n",
    "# print('Best Params: ',bag_gs.best_params_)"
   ]
  },
  {
   "cell_type": "markdown",
   "metadata": {},
   "source": [
    "<a id=\"forest\"></a>\n",
    "#### Random Forest Classifier:\n",
    "---"
   ]
  },
  {
   "cell_type": "code",
   "execution_count": 207,
   "metadata": {},
   "outputs": [],
   "source": [
    "forest = RandomForestClassifier(n_estimators=300, criterion='gini', max_depth=None, max_features='auto', random_state=1)\n",
    "forest_params = {'max_depth': range(1,15)\n",
    "                }\n",
    "forest_gs = GridSearchCV(forest, forest_params, verbose=1, cv=3, n_jobs=-1)"
   ]
  },
  {
   "cell_type": "code",
   "execution_count": 208,
   "metadata": {},
   "outputs": [
    {
     "name": "stdout",
     "output_type": "stream",
     "text": [
      "Fitting 3 folds for each of 14 candidates, totalling 42 fits\n"
     ]
    },
    {
     "name": "stderr",
     "output_type": "stream",
     "text": [
      "[Parallel(n_jobs=-1)]: Using backend LokyBackend with 4 concurrent workers.\n",
      "[Parallel(n_jobs=-1)]: Done  42 out of  42 | elapsed: 33.6min finished\n"
     ]
    },
    {
     "data": {
      "text/plain": [
       "['forestclass.joblib']"
      ]
     },
     "execution_count": 208,
     "metadata": {},
     "output_type": "execute_result"
    }
   ],
   "source": [
    "forest_gs.fit(pca_train, y_train)\n",
    "best_forest = forest_gs.best_estimator_\n",
    "dump(best_forest, 'forestclass.joblib')"
   ]
  },
  {
   "cell_type": "code",
   "execution_count": 209,
   "metadata": {},
   "outputs": [
    {
     "name": "stdout",
     "output_type": "stream",
     "text": [
      "Best params:  <bound method BaseEstimator.get_params of RandomForestClassifier(bootstrap=True, class_weight=None, criterion='gini',\n",
      "            max_depth=4, max_features='auto', max_leaf_nodes=None,\n",
      "            min_impurity_decrease=0.0, min_impurity_split=None,\n",
      "            min_samples_leaf=1, min_samples_split=2,\n",
      "            min_weight_fraction_leaf=0.0, n_estimators=300, n_jobs=None,\n",
      "            oob_score=False, random_state=1, verbose=0, warm_start=False)>\n",
      "Best train score:  0.7119749742494182\n",
      "Best test score:  0.7063269876819709\n",
      "Cross validated score:  0.6930715393961474\n"
     ]
    }
   ],
   "source": [
    "print('Best params: ', best_forest.get_params)\n",
    "print('Best train score: ', forest_gs.best_score_)\n",
    "print('Best test score: ', best_forest.score(pca_test, y_test))\n",
    "print('Cross validated score: ', cross_val_score(best_forest, pca_train, y_train, cv=5).mean())"
   ]
  },
  {
   "cell_type": "code",
   "execution_count": 210,
   "metadata": {},
   "outputs": [
    {
     "data": {
      "text/html": [
       "<div>\n",
       "<style scoped>\n",
       "    .dataframe tbody tr th:only-of-type {\n",
       "        vertical-align: middle;\n",
       "    }\n",
       "\n",
       "    .dataframe tbody tr th {\n",
       "        vertical-align: top;\n",
       "    }\n",
       "\n",
       "    .dataframe thead th {\n",
       "        text-align: right;\n",
       "    }\n",
       "</style>\n",
       "<table border=\"1\" class=\"dataframe\">\n",
       "  <thead>\n",
       "    <tr style=\"text-align: right;\">\n",
       "      <th></th>\n",
       "      <th>0</th>\n",
       "      <th>1</th>\n",
       "    </tr>\n",
       "  </thead>\n",
       "  <tbody>\n",
       "    <tr>\n",
       "      <th>0</th>\n",
       "      <td>0</td>\n",
       "      <td>3147</td>\n",
       "    </tr>\n",
       "    <tr>\n",
       "      <th>1</th>\n",
       "      <td>0</td>\n",
       "      <td>7569</td>\n",
       "    </tr>\n",
       "  </tbody>\n",
       "</table>\n",
       "</div>"
      ],
      "text/plain": [
       "   0     1\n",
       "0  0  3147\n",
       "1  0  7569"
      ]
     },
     "execution_count": 210,
     "metadata": {},
     "output_type": "execute_result"
    }
   ],
   "source": [
    "forest_predictions = best_forest.predict(pca_test)\n",
    "confusion = confusion_matrix(y_test, forest_predictions)\n",
    "pd.DataFrame(confusion, columns=sorted(y_train.unique()),\n",
    "             index=sorted(y_train.unique()))"
   ]
  },
  {
   "cell_type": "code",
   "execution_count": 212,
   "metadata": {},
   "outputs": [
    {
     "name": "stdout",
     "output_type": "stream",
     "text": [
      "              precision    recall  f1-score   support\n",
      "\n",
      "           0       0.00      0.00      0.00      3147\n",
      "           1       0.71      1.00      0.83      7569\n",
      "\n",
      "   micro avg       0.71      0.71      0.71     10716\n",
      "   macro avg       0.35      0.50      0.41     10716\n",
      "weighted avg       0.50      0.71      0.58     10716\n",
      "\n"
     ]
    }
   ],
   "source": [
    "print(classification_report(y_test, forest_predictions))"
   ]
  },
  {
   "cell_type": "markdown",
   "metadata": {},
   "source": [
    "<a id=\"knn\"></a>\n",
    "#### KNeighbour Classifier:\n",
    "---"
   ]
  },
  {
   "cell_type": "code",
   "execution_count": 17,
   "metadata": {},
   "outputs": [
    {
     "name": "stdout",
     "output_type": "stream",
     "text": [
      "Fitting 5 folds for each of 20 candidates, totalling 100 fits\n"
     ]
    },
    {
     "name": "stderr",
     "output_type": "stream",
     "text": [
      "[Parallel(n_jobs=-1)]: Using backend LokyBackend with 4 concurrent workers.\n",
      "[Parallel(n_jobs=-1)]: Done  42 tasks      | elapsed: 262.9min\n",
      "[Parallel(n_jobs=-1)]: Done 100 out of 100 | elapsed: 714.2min finished\n"
     ]
    },
    {
     "name": "stdout",
     "output_type": "stream",
     "text": [
      "Best params:  <bound method BaseEstimator.get_params of KNeighborsClassifier(algorithm='auto', leaf_size=30, metric='minkowski',\n",
      "           metric_params=None, n_jobs=None, n_neighbors=11, p=2,\n",
      "           weights='uniform')>\n",
      "Best train score:  0.5699967545484049\n",
      "Best test score:  0.680081791988103\n",
      "Cross validated score:  0.569993684099796\n"
     ]
    }
   ],
   "source": [
    "knn = KNeighborsClassifier(n_neighbors=5, weights='uniform', algorithm='auto')\n",
    "knn_params = {'n_neighbors': range(3,13),\n",
    "             'weights': ['uniform','distance']\n",
    "                }\n",
    "knn_gs = GridSearchCV(knn, knn_params, verbose=1, cv=5, n_jobs=-1)\n",
    "\n",
    "knn_gs.fit(pca_train, y_train)\n",
    "best_knn = knn_gs.best_estimator_\n",
    "dump(best_knn, 'best_knnclass.joblib')\n",
    "print('Best params: ', best_knn.get_params)\n",
    "print('Best train score: ', knn_gs.best_score_)\n",
    "print('Best test score: ', best_knn.score(pca_test, y_test))\n",
    "print('Cross validated score: ', cross_val_score(best_knn, pca_train, y_train, cv=5).mean())\n"
   ]
  },
  {
   "cell_type": "code",
   "execution_count": 18,
   "metadata": {},
   "outputs": [
    {
     "data": {
      "text/html": [
       "<div>\n",
       "<style scoped>\n",
       "    .dataframe tbody tr th:only-of-type {\n",
       "        vertical-align: middle;\n",
       "    }\n",
       "\n",
       "    .dataframe tbody tr th {\n",
       "        vertical-align: top;\n",
       "    }\n",
       "\n",
       "    .dataframe thead th {\n",
       "        text-align: right;\n",
       "    }\n",
       "</style>\n",
       "<table border=\"1\" class=\"dataframe\">\n",
       "  <thead>\n",
       "    <tr style=\"text-align: right;\">\n",
       "      <th></th>\n",
       "      <th>0</th>\n",
       "      <th>1</th>\n",
       "    </tr>\n",
       "  </thead>\n",
       "  <tbody>\n",
       "    <tr>\n",
       "      <th>0</th>\n",
       "      <td>883</td>\n",
       "      <td>2285</td>\n",
       "    </tr>\n",
       "    <tr>\n",
       "      <th>1</th>\n",
       "      <td>1157</td>\n",
       "      <td>6434</td>\n",
       "    </tr>\n",
       "  </tbody>\n",
       "</table>\n",
       "</div>"
      ],
      "text/plain": [
       "      0     1\n",
       "0   883  2285\n",
       "1  1157  6434"
      ]
     },
     "execution_count": 18,
     "metadata": {},
     "output_type": "execute_result"
    }
   ],
   "source": [
    "knn_predictions = best_knn.predict(pca_test)\n",
    "confusion = confusion_matrix(y_test, knn_predictions)\n",
    "pd.DataFrame(confusion, columns=sorted(y_train.unique()),\n",
    "             index=sorted(y_train.unique()))\n"
   ]
  },
  {
   "cell_type": "code",
   "execution_count": 19,
   "metadata": {},
   "outputs": [
    {
     "data": {
      "text/plain": [
       "'              precision    recall  f1-score   support\\n\\n           0       0.43      0.28      0.34      3168\\n           1       0.74      0.85      0.79      7591\\n\\n   micro avg       0.68      0.68      0.68     10759\\n   macro avg       0.59      0.56      0.56     10759\\nweighted avg       0.65      0.68      0.66     10759\\n'"
      ]
     },
     "execution_count": 19,
     "metadata": {},
     "output_type": "execute_result"
    }
   ],
   "source": [
    "classification_report(y_test, knn_predictions)"
   ]
  },
  {
   "cell_type": "markdown",
   "metadata": {},
   "source": [
    "<a id=\"oversampling\"></a>\n",
    "### Over-Sampling"
   ]
  },
  {
   "cell_type": "markdown",
   "metadata": {},
   "source": [
    "---"
   ]
  },
  {
   "cell_type": "markdown",
   "metadata": {},
   "source": [
    "- We have an imbalanced dataset for the different classes so here i'll be re-sampling the dataset to balance the classes.\n",
    "- Unfortunately, the score has not improved"
   ]
  },
  {
   "cell_type": "code",
   "execution_count": 1,
   "metadata": {},
   "outputs": [],
   "source": [
    "balance_pipe = make_pipeline(RandomOverSampler(),LogisticRegression())\n",
    "\n",
    "pipeline_params = {'logisticregression__penalty': ['l2'],\n",
    "             'logisticregression__solver': ['liblinear'],\n",
    "             'logisticregression__C': np.logspace(-3, 3, 6)}\n",
    "\n",
    "\n",
    "gs_pipeline = GridSearchCV(balance_pipe,\n",
    "                               pipeline_params,\n",
    "                               n_jobs=-1, \n",
    "                               cv=3, \n",
    "                               verbose=1)\n",
    "\n",
    "gs_pipeline.fit(pca_train, y_train)"
   ]
  },
  {
   "cell_type": "code",
   "execution_count": 226,
   "metadata": {
    "scrolled": true
   },
   "outputs": [
    {
     "name": "stdout",
     "output_type": "stream",
     "text": [
      "0.5084500057223516\n",
      "0.6292459873086973\n",
      "0.4768564664429021\n"
     ]
    }
   ],
   "source": [
    "print(gs_pipeline.best_score_)\n",
    "print(gs_pipeline.score(pca_test, y_test))\n",
    "best_over = gs_pipeline.best_estimator_     \n",
    "dump(best_over, 'best_overclass.joblib')\n",
    "print(cross_val_score(best_over, pca_train, y_train, cv = 5).mean())"
   ]
  },
  {
   "cell_type": "code",
   "execution_count": 4,
   "metadata": {},
   "outputs": [],
   "source": [
    "best_over = load('best_overclass.joblib')"
   ]
  },
  {
   "cell_type": "code",
   "execution_count": 25,
   "metadata": {},
   "outputs": [
    {
     "data": {
      "text/html": [
       "<div>\n",
       "<style scoped>\n",
       "    .dataframe tbody tr th:only-of-type {\n",
       "        vertical-align: middle;\n",
       "    }\n",
       "\n",
       "    .dataframe tbody tr th {\n",
       "        vertical-align: top;\n",
       "    }\n",
       "\n",
       "    .dataframe thead th {\n",
       "        text-align: right;\n",
       "    }\n",
       "</style>\n",
       "<table border=\"1\" class=\"dataframe\">\n",
       "  <thead>\n",
       "    <tr style=\"text-align: right;\">\n",
       "      <th></th>\n",
       "      <th>0</th>\n",
       "      <th>1</th>\n",
       "    </tr>\n",
       "  </thead>\n",
       "  <tbody>\n",
       "    <tr>\n",
       "      <th>0</th>\n",
       "      <td>1441</td>\n",
       "      <td>1727</td>\n",
       "    </tr>\n",
       "    <tr>\n",
       "      <th>1</th>\n",
       "      <td>3424</td>\n",
       "      <td>4164</td>\n",
       "    </tr>\n",
       "  </tbody>\n",
       "</table>\n",
       "</div>"
      ],
      "text/plain": [
       "      0     1\n",
       "0  1441  1727\n",
       "1  3424  4164"
      ]
     },
     "execution_count": 25,
     "metadata": {},
     "output_type": "execute_result"
    }
   ],
   "source": [
    "oversamp = best_over.predict(pca_test)\n",
    "confusion = confusion_matrix(y_test, oversamp)\n",
    "pd.DataFrame(confusion, columns=sorted(y_train.unique()),\n",
    "             index=sorted(y_train.unique()))"
   ]
  },
  {
   "cell_type": "code",
   "execution_count": 27,
   "metadata": {},
   "outputs": [
    {
     "name": "stdout",
     "output_type": "stream",
     "text": [
      "              precision    recall  f1-score   support\n",
      "\n",
      "           0       0.30      0.45      0.36      3168\n",
      "           1       0.71      0.55      0.62      7588\n",
      "\n",
      "   micro avg       0.52      0.52      0.52     10756\n",
      "   macro avg       0.50      0.50      0.49     10756\n",
      "weighted avg       0.59      0.52      0.54     10756\n",
      "\n"
     ]
    }
   ],
   "source": [
    "print(classification_report(y_test, oversamp))"
   ]
  },
  {
   "cell_type": "code",
   "execution_count": null,
   "metadata": {},
   "outputs": [],
   "source": []
  }
 ],
 "metadata": {
  "kernelspec": {
   "display_name": "Python 3",
   "language": "python",
   "name": "python3"
  },
  "language_info": {
   "codemirror_mode": {
    "name": "ipython",
    "version": 3
   },
   "file_extension": ".py",
   "mimetype": "text/x-python",
   "name": "python",
   "nbconvert_exporter": "python",
   "pygments_lexer": "ipython3",
   "version": "3.7.3"
  }
 },
 "nbformat": 4,
 "nbformat_minor": 2
}
