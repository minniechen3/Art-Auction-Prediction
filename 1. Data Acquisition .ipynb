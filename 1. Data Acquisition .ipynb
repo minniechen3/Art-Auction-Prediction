{
 "cells": [
  {
   "cell_type": "markdown",
   "metadata": {},
   "source": [
    "<img src=\"http://imgur.com/1ZcRyrc.png\" style=\"float: left; margin: 20px; height: 55px\">\n",
    "\n",
    "\n",
    "# Data Sourcing and Aquisition \n",
    "\n",
    "----"
   ]
  },
  {
   "cell_type": "markdown",
   "metadata": {},
   "source": [
    "### Data Aquisition Guide:\n",
    "\n",
    "- [Outline](#requirement)\n",
    "- [Data Source](#source) \n",
    "- [Web-scraping Tools Used:](#webscrape)\n",
    "    - [Selenium Webdriver](#selenium) \n",
    "    - [BeautifulSoup](#beautifulsoup)\n",
    "- [Preliminary Dataframe](#dataframe)\n",
    "- [List of Extracted Variables](#variablelist)\n"
   ]
  },
  {
   "cell_type": "code",
   "execution_count": 1,
   "metadata": {},
   "outputs": [],
   "source": [
    "from selenium import webdriver\n",
    "from selenium.webdriver.common.keys import Keys\n",
    "from bs4 import BeautifulSoup\n",
    "import re, os, time\n",
    "import pandas as pd\n",
    "import numpy as np\n",
    "from tqdm import tqdm_notebook\n",
    "import warnings\n",
    "warnings.simplefilter('ignore')"
   ]
  },
  {
   "cell_type": "markdown",
   "metadata": {},
   "source": [
    "<a id=\"source\"></a>\n",
    "### Data Source:\n",
    "---\n",
    "\n",
    "#### Mutual Art - Subscription art information site\n",
    "\n",
    "- Founded in 2008, MutualArt.com is a leading art information website. \n",
    "- Its gives access to auction prices, latest industry updates and data on over 300,000 artists.\n",
    "- Most art auction data is scattered across different sources and usually incomplete. \n",
    "- This subscription site has over 3 million recorded auction sales in its database."
   ]
  },
  {
   "attachments": {},
   "cell_type": "markdown",
   "metadata": {},
   "source": [
    "![](./Images/mainpage.png)"
   ]
  },
  {
   "cell_type": "markdown",
   "metadata": {},
   "source": [
    "  \n",
    "  \n",
    "  \n",
    "  "
   ]
  },
  {
   "cell_type": "markdown",
   "metadata": {},
   "source": [
    "- Search results can be filted by sale outcome, price range, artist, auction house and artwork attributes\n",
    "- Since the aim is to predict the the realised price of an artwork, I will only be looking at **sold** sale outcomes.\n",
    "- In addition, since there are many different categories of artwork with different attributes due to time restraint I will be looking specifically at graphics & prints only.\n",
    "- Reasons for choosing graphics and prints:\n",
    "    - The price range is more confined.\n",
    "    - Each graphic/print can come from multiple prints, hence more records of the print being sold"
   ]
  },
  {
   "cell_type": "markdown",
   "metadata": {},
   "source": [
    "## Webscraping Technique and Tools Used:\n",
    "<a id=\"webscrape\"></a>"
   ]
  },
  {
   "cell_type": "markdown",
   "metadata": {},
   "source": [
    "<a id=\"selenium\"></a>\n",
    "\n",
    "### Using Selenium Webdriver to access and extract information from Mutual Art Platform:\n",
    "----"
   ]
  },
  {
   "cell_type": "markdown",
   "metadata": {},
   "source": [
    "**Problem:**\n",
    "\n",
    "1. MutualArt is a subscription site therefore in order to web-scrape, one needs to login first.\n",
    "2. The site is an infinte scroll site for loading results in the next page\n",
    "3. For every search filter, the site will only show the top 5000 results\n",
    "\n"
   ]
  },
  {
   "cell_type": "markdown",
   "metadata": {},
   "source": [
    "**Solution:** ... Selenium Webdriver!\n",
    "\n",
    "- Selenium webdriver allows one to control and automate a web-brower (such as Chrome)"
   ]
  },
  {
   "attachments": {},
   "cell_type": "markdown",
   "metadata": {},
   "source": [
    "![](./Images/infinitescroll.png)"
   ]
  },
  {
   "cell_type": "markdown",
   "metadata": {},
   "source": [
    "  "
   ]
  },
  {
   "cell_type": "markdown",
   "metadata": {},
   "source": [
    "**1. Using selenium to automate logging into the site:**\n"
   ]
  },
  {
   "cell_type": "code",
   "execution_count": null,
   "metadata": {},
   "outputs": [],
   "source": [
    "#Initializing selenium webdriver using chrome:\n",
    "\n",
    "login_url = 'https://www.mutualart.com/login?source_page=Auction_Search&cta=LOGIN-%20MENU'\n",
    "driver = webdriver.Chrome('./chromedriver')\n",
    "driver.implicitly_wait(1)\n",
    "driver.get(login_url)"
   ]
  },
  {
   "cell_type": "code",
   "execution_count": null,
   "metadata": {},
   "outputs": [],
   "source": [
    "#Filling in login details:\n",
    "\n",
    "emailElem = driver.find_element_by_id('login_email')\n",
    "emailElem.send_keys('ENTER-EMAIL-HERE')\n",
    "passwordElem = driver.find_element_by_id('login_passw')\n",
    "passwordElem.send_keys('ENTER-PASSWORD-HERE')\n",
    "\n",
    "login_button = driver.find_elements_by_xpath('//button[@type=\"button\" and @onclick=\"login()\" and @class=\"btn btn-1\"]')[0]\n",
    "login_button.click()"
   ]
  },
  {
   "attachments": {},
   "cell_type": "markdown",
   "metadata": {},
   "source": [
    "![](./Images/login.png)"
   ]
  },
  {
   "cell_type": "markdown",
   "metadata": {},
   "source": [
    "**2. Getting around infinite page scroll:**"
   ]
  },
  {
   "cell_type": "code",
   "execution_count": null,
   "metadata": {},
   "outputs": [],
   "source": [
    "#First to avoid pointless scrolling\n",
    "\n",
    "#Find number of results for search\n",
    "#Each page shows 15 results\n",
    "\n",
    "num_results = driver.find_element_by_id('resultsCount').text\n",
    "results_count = int(num_results.split(' ')[0])\n",
    "\n",
    "#Initiates window scroll from point 0 down the length of the height of the window\n",
    "#pause for 'n' secs to 'sleep' aka let page load\n",
    "\n",
    "for i in range(1,(round(results_count/15))):\n",
    "    driver.execute_script(\"window.scrollTo(0, document.body.scrollHeight);\")\n",
    "    time.sleep(2)\n"
   ]
  },
  {
   "cell_type": "markdown",
   "metadata": {},
   "source": [
    "**3. Making use of the price range filter:**\n",
    "\n",
    "- By setting smaller price range filters, more results can be extracted\n",
    "- Looping through the required price range in smaller ranges optimizes number of data obtained"
   ]
  },
  {
   "cell_type": "code",
   "execution_count": null,
   "metadata": {},
   "outputs": [],
   "source": [
    "    for i in range(min_limit,max_limit,step):     \n",
    "        web_url = \"https://www.mutualart.com/auction-search?Type=Sold&price={}-{}&tags=0EB6EBC43B2996A2&artworkSort=2426EF8DFC0B7B2D\".format(i, i+(step-1))"
   ]
  },
  {
   "cell_type": "markdown",
   "metadata": {},
   "source": [
    "<a id=\"BeautifulSoup\"></a>\n",
    "### Introducing BeautifulSoup \n",
    "\n",
    "---"
   ]
  },
  {
   "cell_type": "markdown",
   "metadata": {},
   "source": [
    "- Once selenium scrolls to the bottom of the page\n",
    "- The whole page can be saved as an html script\n",
    "- This is when the BeautifulSoup tool can be used to make the data acquisition process faster"
   ]
  },
  {
   "cell_type": "code",
   "execution_count": null,
   "metadata": {},
   "outputs": [],
   "source": [
    "html_source = driver.page_source\n",
    "soup = BeautifulSoup(html_source)"
   ]
  },
  {
   "cell_type": "markdown",
   "metadata": {},
   "source": [
    "Example code for extracting data:"
   ]
  },
  {
   "cell_type": "code",
   "execution_count": null,
   "metadata": {},
   "outputs": [],
   "source": [
    "def extract_venue(page):\n",
    "    Venue = []\n",
    "\n",
    "    for i in page.find_all('div', attrs={'class':'v2__artwork-detail__price-col organization-links'}):\n",
    "        try:\n",
    "            Venue.append(i.find('a', attrs = {'itemprop':'author'}).text.strip())\n",
    "        except:\n",
    "            Venue.append(np.nan)\n",
    "    Venues = pd.DataFrame({'Venue': Venue})\n",
    "    return Venues"
   ]
  },
  {
   "cell_type": "markdown",
   "metadata": {},
   "source": [
    "<a id=\"dataframe\"></a>\n",
    "### Combining Selenium and BeautifulSoup to extracted data into a dataframe\n",
    "\n",
    "----"
   ]
  },
  {
   "cell_type": "code",
   "execution_count": null,
   "metadata": {},
   "outputs": [],
   "source": [
    "def extract_all_data(min_limit, max_limit, step):\n",
    "    #url for login page of mutualart\n",
    "    login_url = 'https://www.mutualart.com/login?source_page=Auction_Search&cta=LOGIN-%20MENU'\n",
    "\n",
    "    #initialise selenium\n",
    "    driver = webdriver.Chrome('./chromedriver')\n",
    "    driver.implicitly_wait(1)\n",
    "\n",
    "    #login via selenium\n",
    "    driver.get(login_url)\n",
    "    emailElem = driver.find_element_by_id('login_email')\n",
    "    emailElem.send_keys('ENTER-EMAIL')\n",
    "    passwordElem = driver.find_element_by_id('login_passw')\n",
    "    passwordElem.send_keys('ENTER-PASSWORD')\n",
    "    login_button = driver.find_elements_by_xpath('//button[@type=\"button\" and @onclick=\"login()\" and @class=\"btn btn-1\"]')[0]\n",
    "    login_button.click()\n",
    "\n",
    "    time.sleep(0.5)\n",
    "\n",
    "\n",
    "    #list of dataframes from each iteration\n",
    "    results=[]\n",
    "\n",
    "    for i in range(min_limit,max_limit,step):\n",
    "        #high to low url         \n",
    "        web_url = \"https://www.mutualart.com/auction-search?Type=Sold&price={}-{}&tags=0EB6EBC43B2996A2&artworkSort=2426EF8DFC0B7B2D\".format(i, i+(step-1))\n",
    "\n",
    "        #low to high url\n",
    "#         web_url = \"https://www.mutualart.com/auction-search?Type=Sold&price={}-{}&tags=0EB6EBC43B2996A2&artworkSort=70F3BA69A7C11779\".format(i, i+(step-1))\n",
    "        #Initialise with url for scraping\n",
    "        time.sleep(0.5)\n",
    "        driver.get(web_url)\n",
    "\n",
    "        time.sleep(2)\n",
    "        #infinite scroll code:\n",
    "        num_results = driver.find_element_by_id('resultsCount').text\n",
    "        \n",
    "        try:\n",
    "            results_count = int(num_results.split(' ')[0])\n",
    "        except:\n",
    "            results_count = 5000\n",
    "\n",
    "\n",
    "        scroll_count = results_count/10\n",
    "\n",
    "        for i in range((round(scroll_count))):\n",
    "            driver.execute_script(\"window.scrollTo(0, document.body.scrollHeight);\")\n",
    "            timepage = 3+i*0.1\n",
    "            time.sleep(timepage)\n",
    "\n",
    "\n",
    "        #save page as an html\n",
    "        html_source = driver.page_source\n",
    "\n",
    "        #BeautifulSoup magic begins here:\n",
    "        soup_ = BeautifulSoup(html_source)\n",
    "\n",
    "\n",
    "\n",
    "\n",
    "        #functions for web-scraping different variables\n",
    "        title = extract_title(soup_)\n",
    "        titleurl = extract_title_urls(soup_)\n",
    "        year = extract_year(soup_)\n",
    "        artist = extract_artist(soup_)\n",
    "        artisturl = extract_artist_url(soup_)\n",
    "        medium = extract_medium(soup_)\n",
    "        dimension = extract_dimension(soup_)\n",
    "        signed = extract_sign(soup_)\n",
    "        similar = extract_similar(soup_)\n",
    "        estimate = extract_estimate(soup_)\n",
    "        realised = extract_realised(soup_)\n",
    "        venue = extract_venue(soup_)\n",
    "        saledate = extract_saledate(soup_)\n",
    "        imageurl = extract_imageurl(soup_)\n",
    "\n",
    "\n",
    "        #combining all the dataframe together via concat joining by the index\n",
    "        result = pd.concat([title, titleurl, year, artist, artisturl, medium, dimension, signed, similar, estimate, realised,\n",
    "                           venue, saledate, imageurl], axis=1, join_axes=[title.index])\n",
    "\n",
    "        results.append(result)\n",
    "\n",
    "    df = pd.concat(results)\n",
    "    return df"
   ]
  },
  {
   "cell_type": "markdown",
   "metadata": {},
   "source": [
    "#### Example of extracted dataframe:"
   ]
  },
  {
   "cell_type": "code",
   "execution_count": 15,
   "metadata": {},
   "outputs": [
    {
     "data": {
      "text/html": [
       "<div>\n",
       "<style scoped>\n",
       "    .dataframe tbody tr th:only-of-type {\n",
       "        vertical-align: middle;\n",
       "    }\n",
       "\n",
       "    .dataframe tbody tr th {\n",
       "        vertical-align: top;\n",
       "    }\n",
       "\n",
       "    .dataframe thead th {\n",
       "        text-align: right;\n",
       "    }\n",
       "</style>\n",
       "<table border=\"1\" class=\"dataframe\">\n",
       "  <thead>\n",
       "    <tr style=\"text-align: right;\">\n",
       "      <th></th>\n",
       "      <th>Title</th>\n",
       "      <th>Title_url</th>\n",
       "      <th>Year</th>\n",
       "      <th>Artist</th>\n",
       "      <th>Artist_url</th>\n",
       "      <th>Art_medium</th>\n",
       "      <th>Dimensions</th>\n",
       "      <th>Signed</th>\n",
       "      <th>Similar_items</th>\n",
       "      <th>Estimate_Price</th>\n",
       "      <th>Realized_Price</th>\n",
       "      <th>Venue</th>\n",
       "      <th>Sale_date</th>\n",
       "      <th>Image_url</th>\n",
       "    </tr>\n",
       "  </thead>\n",
       "  <tbody>\n",
       "    <tr>\n",
       "      <th>0</th>\n",
       "      <td>Vaque</td>\n",
       "      <td>https://www.mutualart.com/Artwork/Vaque/9EF65B...</td>\n",
       "      <td>1897</td>\n",
       "      <td>Privat Livemont</td>\n",
       "      <td>https://www.mutualart.com/Artist/Privat-Livemo...</td>\n",
       "      <td>Color lithograph on smooth, cream wove paper</td>\n",
       "      <td>320x500 mm; 12 1/2x19 3/4 inches</td>\n",
       "      <td>No</td>\n",
       "      <td>https://www.mutualart.com/Artwork/Vaque/9EF65B...</td>\n",
       "      <td>NaN</td>\n",
       "      <td>6,000 USD</td>\n",
       "      <td>Swann Auction Galleries</td>\n",
       "      <td>Sep. 20, 2012</td>\n",
       "      <td>https://media.mutualart.com/Images/2012_09/19/...</td>\n",
       "    </tr>\n",
       "    <tr>\n",
       "      <th>1</th>\n",
       "      <td>Hakone Tonosawa Yuba (The Hot Springs of Tonos...</td>\n",
       "      <td>https://www.mutualart.com/Artwork/Hakone-Tonos...</td>\n",
       "      <td>2001</td>\n",
       "      <td>Utagawa Hiroshige</td>\n",
       "      <td>https://www.mutualart.com/Artist/Utagawa-Hiros...</td>\n",
       "      <td>prints</td>\n",
       "      <td>NaN</td>\n",
       "      <td>No</td>\n",
       "      <td>https://www.mutualart.com/Artwork/Hakone-Tonos...</td>\n",
       "      <td>NaN</td>\n",
       "      <td>6,000 USD</td>\n",
       "      <td>Freeman's</td>\n",
       "      <td>May 21, 2004</td>\n",
       "      <td>https://media.mutualart.com/Images/2013_03/01/...</td>\n",
       "    </tr>\n",
       "    <tr>\n",
       "      <th>2</th>\n",
       "      <td>Pool made with paper and blue ink for book</td>\n",
       "      <td>https://www.mutualart.com/Artwork/Pool-made-wi...</td>\n",
       "      <td>1980</td>\n",
       "      <td>David Hockney</td>\n",
       "      <td>https://www.mutualart.com/Artist/David-Hockney...</td>\n",
       "      <td>color lithograph</td>\n",
       "      <td>10 1/2 x 9 inches</td>\n",
       "      <td>Signed.992/1000</td>\n",
       "      <td>https://www.mutualart.com/Artwork/Pool-made-wi...</td>\n",
       "      <td>NaN</td>\n",
       "      <td>6,000 USD</td>\n",
       "      <td>Leslie Hindman Auctioneers, Chicago</td>\n",
       "      <td>Sep. 19, 2005</td>\n",
       "      <td>https://media.mutualart.com/Images/2013_03/20/...</td>\n",
       "    </tr>\n",
       "  </tbody>\n",
       "</table>\n",
       "</div>"
      ],
      "text/plain": [
       "                                               Title  \\\n",
       "0                                              Vaque   \n",
       "1  Hakone Tonosawa Yuba (The Hot Springs of Tonos...   \n",
       "2         Pool made with paper and blue ink for book   \n",
       "\n",
       "                                           Title_url  Year             Artist  \\\n",
       "0  https://www.mutualart.com/Artwork/Vaque/9EF65B...  1897    Privat Livemont   \n",
       "1  https://www.mutualart.com/Artwork/Hakone-Tonos...  2001  Utagawa Hiroshige   \n",
       "2  https://www.mutualart.com/Artwork/Pool-made-wi...  1980      David Hockney   \n",
       "\n",
       "                                          Artist_url  \\\n",
       "0  https://www.mutualart.com/Artist/Privat-Livemo...   \n",
       "1  https://www.mutualart.com/Artist/Utagawa-Hiros...   \n",
       "2  https://www.mutualart.com/Artist/David-Hockney...   \n",
       "\n",
       "                                     Art_medium  \\\n",
       "0  Color lithograph on smooth, cream wove paper   \n",
       "1                                        prints   \n",
       "2                              color lithograph   \n",
       "\n",
       "                         Dimensions           Signed  \\\n",
       "0  320x500 mm; 12 1/2x19 3/4 inches               No   \n",
       "1                               NaN               No   \n",
       "2                 10 1/2 x 9 inches  Signed.992/1000   \n",
       "\n",
       "                                       Similar_items Estimate_Price  \\\n",
       "0  https://www.mutualart.com/Artwork/Vaque/9EF65B...            NaN   \n",
       "1  https://www.mutualart.com/Artwork/Hakone-Tonos...            NaN   \n",
       "2  https://www.mutualart.com/Artwork/Pool-made-wi...            NaN   \n",
       "\n",
       "  Realized_Price                                Venue      Sale_date  \\\n",
       "0      6,000 USD              Swann Auction Galleries  Sep. 20, 2012   \n",
       "1      6,000 USD                            Freeman's   May 21, 2004   \n",
       "2      6,000 USD  Leslie Hindman Auctioneers, Chicago  Sep. 19, 2005   \n",
       "\n",
       "                                           Image_url  \n",
       "0  https://media.mutualart.com/Images/2012_09/19/...  \n",
       "1  https://media.mutualart.com/Images/2013_03/01/...  \n",
       "2  https://media.mutualart.com/Images/2013_03/20/...  "
      ]
     },
     "execution_count": 15,
     "metadata": {},
     "output_type": "execute_result"
    }
   ],
   "source": [
    "pd.read_csv('./df_5001_6000.csv').drop(columns='Unnamed: 0').head(3)"
   ]
  },
  {
   "cell_type": "markdown",
   "metadata": {},
   "source": [
    "<a id=\"variablelist\"></a>\n",
    "#### List of Variables Extracted from site:\n",
    "---\n",
    "\n",
    "*Title*\n",
    "- Title of the artwork\n",
    "- This is pretty clean, no need to work on it\n",
    "\n",
    "*Title_url*\n",
    "- URL for clicking into the mainpage of the artwork\n",
    "\n",
    "*Year*\n",
    "- Year in which artwork was produced\n",
    "\n",
    "\n",
    "*Artist*\n",
    "- Artist who produced the artwork\n",
    "\n",
    "*Artist_url*\n",
    "- for extracting more information on the artist\n",
    "\n",
    "\n",
    "*Art_medium*\n",
    "- material and type of artwork information\n",
    "\n",
    "\n",
    "*Dimensions*\n",
    "\n",
    "- size of the artwork\n",
    "- Formatted in different metrics, inches, cm, mm and ft \n",
    "\n",
    "*Signed*\n",
    "\n",
    "- Signed by artist or not. \n",
    "- Information on print number and total number of prints\n",
    "\n",
    "*Similar item list*\n",
    "\n",
    "- url for similar item page\n",
    "\n",
    "*Estimate_Price*\n",
    "\n",
    "- estimated price of artwork before auction\n",
    "\n",
    "\n",
    "*Realized_Price*\n",
    "\n",
    "- Price in which artwork was successfully sold\n",
    "\n",
    "*Venue*\n",
    "\n",
    "- Auction House Venue\n",
    "\n",
    "*Sale_date*\n",
    "\n",
    "- Date of Auction sale\n",
    "\n",
    "*image_url*\n",
    "\n",
    "- Image jpeg. URL\n"
   ]
  },
  {
   "cell_type": "code",
   "execution_count": null,
   "metadata": {},
   "outputs": [],
   "source": []
  }
 ],
 "metadata": {
  "kernelspec": {
   "display_name": "Python 3",
   "language": "python",
   "name": "python3"
  },
  "language_info": {
   "codemirror_mode": {
    "name": "ipython",
    "version": 3
   },
   "file_extension": ".py",
   "mimetype": "text/x-python",
   "name": "python",
   "nbconvert_exporter": "python",
   "pygments_lexer": "ipython3",
   "version": "3.7.3"
  }
 },
 "nbformat": 4,
 "nbformat_minor": 2
}
